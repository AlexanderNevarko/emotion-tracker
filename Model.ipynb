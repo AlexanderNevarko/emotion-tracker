{
  "nbformat": 4,
  "nbformat_minor": 0,
  "metadata": {
    "kernelspec": {
      "display_name": "Python 3",
      "language": "python",
      "name": "python3"
    },
    "language_info": {
      "codemirror_mode": {
        "name": "ipython",
        "version": 3
      },
      "file_extension": ".py",
      "mimetype": "text/x-python",
      "name": "python",
      "nbconvert_exporter": "python",
      "pygments_lexer": "ipython3",
      "version": "3.7.0"
    },
    "colab": {
      "name": "Model.ipynb",
      "provenance": [],
      "collapsed_sections": [],
      "toc_visible": true
    },
    "accelerator": "GPU"
  },
  "cells": [
    {
      "cell_type": "markdown",
      "metadata": {
        "id": "k-PhQ6ORSE9F"
      },
      "source": [
        "# General imports"
      ]
    },
    {
      "cell_type": "code",
      "metadata": {
        "id": "q9znd9MuSE9P"
      },
      "source": [
        "from __future__ import print_function\n",
        "import keras\n",
        "from keras.preprocessing.image import ImageDataGenerator\n",
        "from keras.models import Sequential\n",
        "from keras.layers import Dense,Dropout,Activation,Flatten,BatchNormalization\n",
        "from keras.layers import Conv2D,MaxPooling2D\n",
        "from keras.optimizers import RMSprop,SGD,Adam\n",
        "from keras.callbacks import ModelCheckpoint, EarlyStopping, ReduceLROnPlateau\n",
        "import matplotlib.pyplot as plt\n",
        "import pandas as pd\n",
        "import numpy as np\n",
        "import torch\n",
        "import os"
      ],
      "execution_count": 39,
      "outputs": []
    },
    {
      "cell_type": "markdown",
      "metadata": {
        "id": "5py4QRfxSE9Q"
      },
      "source": [
        "# Upload the dataset"
      ]
    },
    {
      "cell_type": "code",
      "metadata": {
        "id": "3TEPcDqSSxSu"
      },
      "source": [
        "!unzip fec_2013.zip"
      ],
      "execution_count": null,
      "outputs": []
    },
    {
      "cell_type": "code",
      "metadata": {
        "id": "XmjrGPZRSE9R"
      },
      "source": [
        "train_data_dir='fec_2013/train'\n",
        "validation_data_dir='fec_2013/test'"
      ],
      "execution_count": 6,
      "outputs": []
    },
    {
      "cell_type": "markdown",
      "metadata": {
        "id": "idK6F_OASE9R"
      },
      "source": [
        "## Dataset 'fer2013' which is an open source dataset hosted on kaggle and specially prepeared for emotion recognition"
      ]
    },
    {
      "cell_type": "code",
      "metadata": {
        "id": "ybH1lMCiSE9R"
      },
      "source": [
        "num_classes = 7\n",
        "img_shape = (48, 48)\n",
        "batch_size = 32"
      ],
      "execution_count": 18,
      "outputs": []
    },
    {
      "cell_type": "markdown",
      "metadata": {
        "id": "M-rmJJIASE9R"
      },
      "source": [
        "#### The discription for above variables are as follows:\n",
        "#### num_classses = 5 : This variable defines the number of classes or the emotions that we will be dealing with in training our model.\n",
        "#### img_rows,img_cols=48,48 : These variables define the size of the image array that we will be feeding to our neural network.\n",
        "#### batch_size=32: This variable defines the batch size.The batch size is a number of samples processed before the model is updated. The number of epochs is the number of complete passes through the training dataset. The size of a batch must be more than or equal to one and less than or equal to the number of samples in the training dataset."
      ]
    },
    {
      "cell_type": "code",
      "metadata": {
        "id": "vFa1OxGVSE9S"
      },
      "source": [
        "train_datagen = ImageDataGenerator(\n",
        "                rescale=1./255,\n",
        "                rotation_range=30,\n",
        "                shear_range=0.3,\n",
        "                zoom_range=0.3,\n",
        "                width_shift_range=0.4,\n",
        "                height_shift_range=0.4,\n",
        "                horizontal_flip=True,\n",
        "                fill_mode='nearest')\n",
        "validation_datagen = ImageDataGenerator(rescale=1./255)"
      ],
      "execution_count": 19,
      "outputs": []
    },
    {
      "cell_type": "markdown",
      "metadata": {
        "id": "Bcl-t0mzSE9S"
      },
      "source": [
        "#### The train_datagen variable will artificially expand the dataset using the following:\n",
        "#### rotation_range: Degree range for random rotations. Here we decide to use 30 degrees.\n",
        "#### shear_range: Shear Intensity (Shear angle in counter-clockwise direction in degrees). Herewe decide to use 0.3 as shear range.\n",
        "#### zoom_range: Range for random zoom.Herewe decide to use 0.3 as zoom range.\n",
        "#### width_shift_range: This shifts the images by a value across its width.\n",
        "#### height_shift_range : This shifts the images by a value across its height.\n",
        "#### horizontal_flip: This flips the images horizontally.\n",
        "#### fill_mode: This is used to fill in the pixels after making changes to the orientation of the images by the above used methods. Here we decide to use ‘nearest’ as the fill mode as we instruct it to fill the missing pixels in the image with the nearby pixels."
      ]
    },
    {
      "cell_type": "code",
      "metadata": {
        "colab": {
          "base_uri": "https://localhost:8080/"
        },
        "id": "pYn4H6Q0SE9S",
        "outputId": "decdf34b-a98c-45f3-a672-635b9993ae90"
      },
      "source": [
        "train_generator = train_datagen.flow_from_directory(\n",
        "                                    train_data_dir,\n",
        "                                    color_mode='grayscale',\n",
        "                                    target_size=(img_rows,img_cols),\n",
        "                                    batch_size=batch_size,\n",
        "                                    class_mode='categorical',\n",
        "                                    shuffle=True)\n",
        "\n",
        "validation_generator = validation_datagen.flow_from_directory(\n",
        "                                validation_data_dir,\n",
        "                                color_mode='grayscale',\n",
        "                                target_size=(img_rows,img_cols),\n",
        "                                batch_size=batch_size,\n",
        "                                class_mode='categorical',\n",
        "                                shuffle=False)"
      ],
      "execution_count": 61,
      "outputs": [
        {
          "output_type": "stream",
          "text": [
            "Found 28709 images belonging to 7 classes.\n",
            "Found 7178 images belonging to 7 classes.\n"
          ],
          "name": "stdout"
        }
      ]
    },
    {
      "cell_type": "markdown",
      "metadata": {
        "id": "doRT2DgnSE9U"
      },
      "source": [
        "#### Here we just resclaing the validation data and not performing any other augmentaions as we want to check the model with raw data that is different from the data used in the training of the model.\n",
        "#### The dataset contains totally 7 classes namely Angry,Disgust,Fear,Happy,Sad,Surprise and Neutral. The training set consists of a total of 28,709 examples.\n",
        "#### As we mentioned in our presentation we use only 5 classes: Angry,Happy,Sad,Surprise and Neutral\n",
        "#### The options given are:\n",
        "#### directory: The directory of the dataset.\n",
        "#### color_mode: Here we convert the images to gray-scale as i am not interested in the color of the images but only the expressions.\n",
        "#### target_size: Convert the images to a uniform size.\n",
        "#### batch_size: To make baches of data to train.\n",
        "#### class_mode: Her we use ‘categorical’ as the class mode as i am categorizing my images into 5 classes.\n",
        "#### shuffle: To shuffle the dataset for better training."
      ]
    },
    {
      "cell_type": "code",
      "metadata": {
        "id": "29Q3OzzpSE9U"
      },
      "source": [
        "model = Sequential()"
      ],
      "execution_count": 21,
      "outputs": []
    },
    {
      "cell_type": "markdown",
      "metadata": {
        "id": "nzJLN8TGSE9U"
      },
      "source": [
        "#### Here we use a Sequential model which defines that all the layers in the network will be one after the other sequentially and storing it in a variable model."
      ]
    },
    {
      "cell_type": "code",
      "metadata": {
        "colab": {
          "base_uri": "https://localhost:8080/"
        },
        "id": "M7777iPySE9U",
        "outputId": "ffc5b826-6a11-4191-d624-ff9b845dada1"
      },
      "source": [
        "# Block 1\n",
        "model.add(Conv2D(32,(3,3),padding='same',kernel_initializer='he_normal',input_shape=(img_shape[0],img_shape[1],1)))\n",
        "model.add(Activation('elu'))\n",
        "model.add(BatchNormalization())\n",
        "model.add(Conv2D(32,(3,3),padding='same',kernel_initializer='he_normal',input_shape=(img_shape[0],img_shape[1],1)))\n",
        "model.add(Activation('elu'))\n",
        "model.add(BatchNormalization())\n",
        "model.add(MaxPooling2D(pool_size=(2,2)))\n",
        "model.add(Dropout(0.2))\n",
        "# Block 2\n",
        "model.add(Conv2D(64,(3,3),padding='same',kernel_initializer='he_normal'))\n",
        "model.add(Activation('elu'))\n",
        "model.add(BatchNormalization())\n",
        "model.add(Conv2D(64,(3,3),padding='same',kernel_initializer='he_normal'))\n",
        "model.add(Activation('elu'))\n",
        "model.add(BatchNormalization())\n",
        "model.add(MaxPooling2D(pool_size=(2,2)))\n",
        "model.add(Dropout(0.2))\n",
        "# Block 3\n",
        "model.add(Conv2D(128,(3,3),padding='same',kernel_initializer='he_normal'))\n",
        "model.add(Activation('elu'))\n",
        "model.add(BatchNormalization())\n",
        "model.add(Conv2D(128,(3,3),padding='same',kernel_initializer='he_normal'))\n",
        "model.add(Activation('elu'))\n",
        "model.add(BatchNormalization())\n",
        "model.add(MaxPooling2D(pool_size=(2,2)))\n",
        "model.add(Dropout(0.2))\n",
        "# Block 4\n",
        "model.add(Conv2D(256,(3,3),padding='same',kernel_initializer='he_normal'))\n",
        "model.add(Activation('elu'))\n",
        "model.add(BatchNormalization())\n",
        "model.add(Conv2D(256,(3,3),padding='same',kernel_initializer='he_normal'))\n",
        "model.add(Activation('elu'))\n",
        "model.add(BatchNormalization())\n",
        "model.add(MaxPooling2D(pool_size=(2,2)))\n",
        "model.add(Dropout(0.2))\n",
        "# Block 5\n",
        "model.add(Flatten())\n",
        "model.add(Dense(64,kernel_initializer='he_normal'))\n",
        "model.add(Activation('elu'))\n",
        "model.add(BatchNormalization())\n",
        "model.add(Dropout(0.5))\n",
        "# Block 6\n",
        "model.add(Dense(64,kernel_initializer='he_normal'))\n",
        "model.add(Activation('elu'))\n",
        "model.add(BatchNormalization())\n",
        "model.add(Dropout(0.5))\n",
        "# Block 7\n",
        "model.add(Dense(num_classes,kernel_initializer='he_normal'))\n",
        "model.add(Activation('softmax'))\n",
        "\n",
        "print(model.summary())"
      ],
      "execution_count": 22,
      "outputs": [
        {
          "output_type": "stream",
          "text": [
            "Model: \"sequential_1\"\n",
            "_________________________________________________________________\n",
            "Layer (type)                 Output Shape              Param #   \n",
            "=================================================================\n",
            "conv2d_9 (Conv2D)            (None, 48, 48, 32)        320       \n",
            "_________________________________________________________________\n",
            "activation_11 (Activation)   (None, 48, 48, 32)        0         \n",
            "_________________________________________________________________\n",
            "batch_normalization_10 (Batc (None, 48, 48, 32)        128       \n",
            "_________________________________________________________________\n",
            "conv2d_10 (Conv2D)           (None, 48, 48, 32)        9248      \n",
            "_________________________________________________________________\n",
            "activation_12 (Activation)   (None, 48, 48, 32)        0         \n",
            "_________________________________________________________________\n",
            "batch_normalization_11 (Batc (None, 48, 48, 32)        128       \n",
            "_________________________________________________________________\n",
            "max_pooling2d_4 (MaxPooling2 (None, 24, 24, 32)        0         \n",
            "_________________________________________________________________\n",
            "dropout_6 (Dropout)          (None, 24, 24, 32)        0         \n",
            "_________________________________________________________________\n",
            "conv2d_11 (Conv2D)           (None, 24, 24, 64)        18496     \n",
            "_________________________________________________________________\n",
            "activation_13 (Activation)   (None, 24, 24, 64)        0         \n",
            "_________________________________________________________________\n",
            "batch_normalization_12 (Batc (None, 24, 24, 64)        256       \n",
            "_________________________________________________________________\n",
            "conv2d_12 (Conv2D)           (None, 24, 24, 64)        36928     \n",
            "_________________________________________________________________\n",
            "activation_14 (Activation)   (None, 24, 24, 64)        0         \n",
            "_________________________________________________________________\n",
            "batch_normalization_13 (Batc (None, 24, 24, 64)        256       \n",
            "_________________________________________________________________\n",
            "max_pooling2d_5 (MaxPooling2 (None, 12, 12, 64)        0         \n",
            "_________________________________________________________________\n",
            "dropout_7 (Dropout)          (None, 12, 12, 64)        0         \n",
            "_________________________________________________________________\n",
            "conv2d_13 (Conv2D)           (None, 12, 12, 128)       73856     \n",
            "_________________________________________________________________\n",
            "activation_15 (Activation)   (None, 12, 12, 128)       0         \n",
            "_________________________________________________________________\n",
            "batch_normalization_14 (Batc (None, 12, 12, 128)       512       \n",
            "_________________________________________________________________\n",
            "conv2d_14 (Conv2D)           (None, 12, 12, 128)       147584    \n",
            "_________________________________________________________________\n",
            "activation_16 (Activation)   (None, 12, 12, 128)       0         \n",
            "_________________________________________________________________\n",
            "batch_normalization_15 (Batc (None, 12, 12, 128)       512       \n",
            "_________________________________________________________________\n",
            "max_pooling2d_6 (MaxPooling2 (None, 6, 6, 128)         0         \n",
            "_________________________________________________________________\n",
            "dropout_8 (Dropout)          (None, 6, 6, 128)         0         \n",
            "_________________________________________________________________\n",
            "conv2d_15 (Conv2D)           (None, 6, 6, 256)         295168    \n",
            "_________________________________________________________________\n",
            "activation_17 (Activation)   (None, 6, 6, 256)         0         \n",
            "_________________________________________________________________\n",
            "batch_normalization_16 (Batc (None, 6, 6, 256)         1024      \n",
            "_________________________________________________________________\n",
            "conv2d_16 (Conv2D)           (None, 6, 6, 256)         590080    \n",
            "_________________________________________________________________\n",
            "activation_18 (Activation)   (None, 6, 6, 256)         0         \n",
            "_________________________________________________________________\n",
            "batch_normalization_17 (Batc (None, 6, 6, 256)         1024      \n",
            "_________________________________________________________________\n",
            "max_pooling2d_7 (MaxPooling2 (None, 3, 3, 256)         0         \n",
            "_________________________________________________________________\n",
            "dropout_9 (Dropout)          (None, 3, 3, 256)         0         \n",
            "_________________________________________________________________\n",
            "flatten_1 (Flatten)          (None, 2304)              0         \n",
            "_________________________________________________________________\n",
            "dense_3 (Dense)              (None, 64)                147520    \n",
            "_________________________________________________________________\n",
            "activation_19 (Activation)   (None, 64)                0         \n",
            "_________________________________________________________________\n",
            "batch_normalization_18 (Batc (None, 64)                256       \n",
            "_________________________________________________________________\n",
            "dropout_10 (Dropout)         (None, 64)                0         \n",
            "_________________________________________________________________\n",
            "dense_4 (Dense)              (None, 64)                4160      \n",
            "_________________________________________________________________\n",
            "activation_20 (Activation)   (None, 64)                0         \n",
            "_________________________________________________________________\n",
            "batch_normalization_19 (Batc (None, 64)                256       \n",
            "_________________________________________________________________\n",
            "dropout_11 (Dropout)         (None, 64)                0         \n",
            "_________________________________________________________________\n",
            "dense_5 (Dense)              (None, 7)                 455       \n",
            "_________________________________________________________________\n",
            "activation_21 (Activation)   (None, 7)                 0         \n",
            "=================================================================\n",
            "Total params: 1,328,167\n",
            "Trainable params: 1,325,991\n",
            "Non-trainable params: 2,176\n",
            "_________________________________________________________________\n",
            "None\n"
          ],
          "name": "stdout"
        }
      ]
    },
    {
      "cell_type": "code",
      "metadata": {
        "id": "wDHGdeWBSE9V"
      },
      "source": [
        "checkpoint = ModelCheckpoint('EmotionDetectionModel.h5',\n",
        "                             monitor='val_loss',\n",
        "                             mode='min',\n",
        "                             save_best_only=True,\n",
        "                             verbose=1)\n",
        "\n",
        "earlystop = EarlyStopping(monitor='val_loss',\n",
        "                          min_delta=0,\n",
        "                          patience=3,\n",
        "                          verbose=1,\n",
        "                          restore_best_weights=True\n",
        "                          )\n",
        "\n",
        "reduce_lr = ReduceLROnPlateau(monitor='val_loss',\n",
        "                              factor=0.2,\n",
        "                              patience=3,\n",
        "                              verbose=1,\n",
        "                              min_delta=0.0001)\n",
        "\n",
        "callbacks = [checkpoint, reduce_lr]"
      ],
      "execution_count": 31,
      "outputs": []
    },
    {
      "cell_type": "code",
      "metadata": {
        "scrolled": false,
        "colab": {
          "base_uri": "https://localhost:8080/"
        },
        "id": "_J9W5PhlSE9V",
        "outputId": "df6c7594-039c-4a67-8158-03ea7d44d554"
      },
      "source": [
        "model.compile(loss='categorical_crossentropy',\n",
        "              optimizer = Adam(lr=0.001),\n",
        "              metrics=['accuracy'])\n",
        "\n",
        "nb_train_samples = 28709\n",
        "nb_validation_samples = 7178\n",
        "epochs = 50\n",
        "\n",
        "history = model.fit_generator(\n",
        "                train_generator,\n",
        "                steps_per_epoch=nb_train_samples//batch_size,\n",
        "                epochs=epochs,\n",
        "                callbacks=callbacks,\n",
        "                validation_data=validation_generator,\n",
        "                validation_steps=nb_validation_samples//batch_size)"
      ],
      "execution_count": 32,
      "outputs": [
        {
          "output_type": "stream",
          "text": [
            "Epoch 1/50\n",
            "896/897 [============================>.] - ETA: 0s - loss: 1.2635 - accuracy: 0.5283\n",
            "Epoch 00001: val_loss improved from inf to 1.06568, saving model to EmotionDetectionModel.h5\n",
            "897/897 [==============================] - 27s 30ms/step - loss: 1.2641 - accuracy: 0.5281 - val_loss: 1.0657 - val_accuracy: 0.5996\n",
            "Epoch 2/50\n",
            "896/897 [============================>.] - ETA: 0s - loss: 1.2651 - accuracy: 0.5276\n",
            "Epoch 00002: val_loss did not improve from 1.06568\n",
            "897/897 [==============================] - 27s 30ms/step - loss: 1.2650 - accuracy: 0.5275 - val_loss: 1.0736 - val_accuracy: 0.5997\n",
            "Epoch 3/50\n",
            "896/897 [============================>.] - ETA: 0s - loss: 1.2575 - accuracy: 0.5303\n",
            "Epoch 00003: val_loss improved from 1.06568 to 1.04602, saving model to EmotionDetectionModel.h5\n",
            "897/897 [==============================] - 28s 31ms/step - loss: 1.2574 - accuracy: 0.5304 - val_loss: 1.0460 - val_accuracy: 0.6023\n",
            "Epoch 4/50\n",
            "896/897 [============================>.] - ETA: 0s - loss: 1.2511 - accuracy: 0.5339\n",
            "Epoch 00004: val_loss improved from 1.04602 to 1.02294, saving model to EmotionDetectionModel.h5\n",
            "897/897 [==============================] - 29s 32ms/step - loss: 1.2512 - accuracy: 0.5339 - val_loss: 1.0229 - val_accuracy: 0.6172\n",
            "Epoch 5/50\n",
            "896/897 [============================>.] - ETA: 0s - loss: 1.2428 - accuracy: 0.5381\n",
            "Epoch 00005: val_loss did not improve from 1.02294\n",
            "897/897 [==============================] - 28s 31ms/step - loss: 1.2426 - accuracy: 0.5382 - val_loss: 1.0369 - val_accuracy: 0.6175\n",
            "Epoch 6/50\n",
            "897/897 [==============================] - ETA: 0s - loss: 1.2348 - accuracy: 0.5427\n",
            "Epoch 00006: val_loss did not improve from 1.02294\n",
            "897/897 [==============================] - 28s 31ms/step - loss: 1.2348 - accuracy: 0.5427 - val_loss: 1.0614 - val_accuracy: 0.6007\n",
            "Epoch 7/50\n",
            "896/897 [============================>.] - ETA: 0s - loss: 1.2331 - accuracy: 0.5427\n",
            "Epoch 00007: val_loss improved from 1.02294 to 1.00143, saving model to EmotionDetectionModel.h5\n",
            "897/897 [==============================] - 28s 31ms/step - loss: 1.2331 - accuracy: 0.5428 - val_loss: 1.0014 - val_accuracy: 0.6307\n",
            "Epoch 8/50\n",
            "896/897 [============================>.] - ETA: 0s - loss: 1.2390 - accuracy: 0.5418\n",
            "Epoch 00008: val_loss did not improve from 1.00143\n",
            "897/897 [==============================] - 28s 31ms/step - loss: 1.2387 - accuracy: 0.5419 - val_loss: 1.0307 - val_accuracy: 0.6131\n",
            "Epoch 9/50\n",
            "896/897 [============================>.] - ETA: 0s - loss: 1.2220 - accuracy: 0.5447\n",
            "Epoch 00009: val_loss did not improve from 1.00143\n",
            "897/897 [==============================] - 28s 31ms/step - loss: 1.2221 - accuracy: 0.5447 - val_loss: 1.0171 - val_accuracy: 0.6176\n",
            "Epoch 10/50\n",
            "897/897 [==============================] - ETA: 0s - loss: 1.2135 - accuracy: 0.5500\n",
            "Epoch 00010: val_loss did not improve from 1.00143\n",
            "\n",
            "Epoch 00010: ReduceLROnPlateau reducing learning rate to 0.00020000000949949026.\n",
            "897/897 [==============================] - 28s 31ms/step - loss: 1.2135 - accuracy: 0.5500 - val_loss: 1.0285 - val_accuracy: 0.6098\n",
            "Epoch 11/50\n",
            "896/897 [============================>.] - ETA: 0s - loss: 1.1966 - accuracy: 0.5589\n",
            "Epoch 00011: val_loss improved from 1.00143 to 0.98936, saving model to EmotionDetectionModel.h5\n",
            "897/897 [==============================] - 28s 32ms/step - loss: 1.1966 - accuracy: 0.5590 - val_loss: 0.9894 - val_accuracy: 0.6334\n",
            "Epoch 12/50\n",
            "897/897 [==============================] - ETA: 0s - loss: 1.1775 - accuracy: 0.5670\n",
            "Epoch 00012: val_loss did not improve from 0.98936\n",
            "897/897 [==============================] - 28s 31ms/step - loss: 1.1775 - accuracy: 0.5670 - val_loss: 0.9917 - val_accuracy: 0.6295\n",
            "Epoch 13/50\n",
            "897/897 [==============================] - ETA: 0s - loss: 1.1754 - accuracy: 0.5690\n",
            "Epoch 00013: val_loss did not improve from 0.98936\n",
            "897/897 [==============================] - 28s 31ms/step - loss: 1.1754 - accuracy: 0.5690 - val_loss: 1.0013 - val_accuracy: 0.6251\n",
            "Epoch 14/50\n",
            "897/897 [==============================] - ETA: 0s - loss: 1.1685 - accuracy: 0.5689\n",
            "Epoch 00014: val_loss improved from 0.98936 to 0.97740, saving model to EmotionDetectionModel.h5\n",
            "897/897 [==============================] - 28s 31ms/step - loss: 1.1685 - accuracy: 0.5689 - val_loss: 0.9774 - val_accuracy: 0.6390\n",
            "Epoch 15/50\n",
            "896/897 [============================>.] - ETA: 0s - loss: 1.1681 - accuracy: 0.5654\n",
            "Epoch 00015: val_loss did not improve from 0.97740\n",
            "897/897 [==============================] - 28s 31ms/step - loss: 1.1682 - accuracy: 0.5653 - val_loss: 0.9824 - val_accuracy: 0.6316\n",
            "Epoch 16/50\n",
            "896/897 [============================>.] - ETA: 0s - loss: 1.1690 - accuracy: 0.5676\n",
            "Epoch 00016: val_loss did not improve from 0.97740\n",
            "897/897 [==============================] - 28s 31ms/step - loss: 1.1689 - accuracy: 0.5676 - val_loss: 0.9792 - val_accuracy: 0.6330\n",
            "Epoch 17/50\n",
            "897/897 [==============================] - ETA: 0s - loss: 1.1714 - accuracy: 0.5655\n",
            "Epoch 00017: val_loss improved from 0.97740 to 0.97668, saving model to EmotionDetectionModel.h5\n",
            "897/897 [==============================] - 28s 31ms/step - loss: 1.1714 - accuracy: 0.5655 - val_loss: 0.9767 - val_accuracy: 0.6324\n",
            "Epoch 18/50\n",
            "897/897 [==============================] - ETA: 0s - loss: 1.1615 - accuracy: 0.5710\n",
            "Epoch 00018: val_loss improved from 0.97668 to 0.96629, saving model to EmotionDetectionModel.h5\n",
            "897/897 [==============================] - 28s 31ms/step - loss: 1.1615 - accuracy: 0.5710 - val_loss: 0.9663 - val_accuracy: 0.6385\n",
            "Epoch 19/50\n",
            "897/897 [==============================] - ETA: 0s - loss: 1.1599 - accuracy: 0.5702\n",
            "Epoch 00019: val_loss did not improve from 0.96629\n",
            "897/897 [==============================] - 28s 31ms/step - loss: 1.1599 - accuracy: 0.5702 - val_loss: 0.9724 - val_accuracy: 0.6367\n",
            "Epoch 20/50\n",
            "896/897 [============================>.] - ETA: 0s - loss: 1.1532 - accuracy: 0.5728\n",
            "Epoch 00020: val_loss did not improve from 0.96629\n",
            "897/897 [==============================] - 29s 32ms/step - loss: 1.1534 - accuracy: 0.5727 - val_loss: 0.9681 - val_accuracy: 0.6384\n",
            "Epoch 21/50\n",
            "896/897 [============================>.] - ETA: 0s - loss: 1.1524 - accuracy: 0.5768\n",
            "Epoch 00021: val_loss did not improve from 0.96629\n",
            "\n",
            "Epoch 00021: ReduceLROnPlateau reducing learning rate to 4.0000001899898055e-05.\n",
            "897/897 [==============================] - 28s 31ms/step - loss: 1.1526 - accuracy: 0.5766 - val_loss: 0.9758 - val_accuracy: 0.6343\n",
            "Epoch 22/50\n",
            "896/897 [============================>.] - ETA: 0s - loss: 1.1560 - accuracy: 0.5737\n",
            "Epoch 00022: val_loss improved from 0.96629 to 0.96563, saving model to EmotionDetectionModel.h5\n",
            "897/897 [==============================] - 28s 31ms/step - loss: 1.1558 - accuracy: 0.5738 - val_loss: 0.9656 - val_accuracy: 0.6387\n",
            "Epoch 23/50\n",
            "897/897 [==============================] - ETA: 0s - loss: 1.1466 - accuracy: 0.5779\n",
            "Epoch 00023: val_loss did not improve from 0.96563\n",
            "897/897 [==============================] - 28s 31ms/step - loss: 1.1466 - accuracy: 0.5779 - val_loss: 0.9657 - val_accuracy: 0.6398\n",
            "Epoch 24/50\n",
            "896/897 [============================>.] - ETA: 0s - loss: 1.1475 - accuracy: 0.5802\n",
            "Epoch 00024: val_loss improved from 0.96563 to 0.95909, saving model to EmotionDetectionModel.h5\n",
            "897/897 [==============================] - 28s 31ms/step - loss: 1.1475 - accuracy: 0.5802 - val_loss: 0.9591 - val_accuracy: 0.6416\n",
            "Epoch 25/50\n",
            "896/897 [============================>.] - ETA: 0s - loss: 1.1491 - accuracy: 0.5750\n",
            "Epoch 00025: val_loss did not improve from 0.95909\n",
            "897/897 [==============================] - 27s 30ms/step - loss: 1.1492 - accuracy: 0.5749 - val_loss: 0.9601 - val_accuracy: 0.6419\n",
            "Epoch 26/50\n",
            "897/897 [==============================] - ETA: 0s - loss: 1.1465 - accuracy: 0.5738\n",
            "Epoch 00026: val_loss did not improve from 0.95909\n",
            "897/897 [==============================] - 27s 30ms/step - loss: 1.1465 - accuracy: 0.5738 - val_loss: 0.9628 - val_accuracy: 0.6403\n",
            "Epoch 27/50\n",
            "897/897 [==============================] - ETA: 0s - loss: 1.1423 - accuracy: 0.5757\n",
            "Epoch 00027: val_loss did not improve from 0.95909\n",
            "\n",
            "Epoch 00027: ReduceLROnPlateau reducing learning rate to 8.000000525498762e-06.\n",
            "897/897 [==============================] - 27s 30ms/step - loss: 1.1423 - accuracy: 0.5757 - val_loss: 0.9608 - val_accuracy: 0.6426\n",
            "Epoch 28/50\n",
            "896/897 [============================>.] - ETA: 0s - loss: 1.1457 - accuracy: 0.5763\n",
            "Epoch 00028: val_loss did not improve from 0.95909\n",
            "897/897 [==============================] - 27s 30ms/step - loss: 1.1455 - accuracy: 0.5763 - val_loss: 0.9598 - val_accuracy: 0.6415\n",
            "Epoch 29/50\n",
            "896/897 [============================>.] - ETA: 0s - loss: 1.1428 - accuracy: 0.5760\n",
            "Epoch 00029: val_loss did not improve from 0.95909\n",
            "897/897 [==============================] - 27s 30ms/step - loss: 1.1426 - accuracy: 0.5761 - val_loss: 0.9610 - val_accuracy: 0.6410\n",
            "Epoch 30/50\n",
            "896/897 [============================>.] - ETA: 0s - loss: 1.1391 - accuracy: 0.5806\n",
            "Epoch 00030: val_loss did not improve from 0.95909\n",
            "\n",
            "Epoch 00030: ReduceLROnPlateau reducing learning rate to 1.6000001778593287e-06.\n",
            "897/897 [==============================] - 27s 30ms/step - loss: 1.1390 - accuracy: 0.5806 - val_loss: 0.9625 - val_accuracy: 0.6408\n",
            "Epoch 31/50\n",
            "896/897 [============================>.] - ETA: 0s - loss: 1.1474 - accuracy: 0.5779\n",
            "Epoch 00031: val_loss did not improve from 0.95909\n",
            "897/897 [==============================] - 27s 30ms/step - loss: 1.1472 - accuracy: 0.5780 - val_loss: 0.9623 - val_accuracy: 0.6427\n",
            "Epoch 32/50\n",
            "896/897 [============================>.] - ETA: 0s - loss: 1.1433 - accuracy: 0.5754\n",
            "Epoch 00032: val_loss did not improve from 0.95909\n",
            "897/897 [==============================] - 27s 30ms/step - loss: 1.1432 - accuracy: 0.5754 - val_loss: 0.9608 - val_accuracy: 0.6412\n",
            "Epoch 33/50\n",
            "896/897 [============================>.] - ETA: 0s - loss: 1.1452 - accuracy: 0.5759\n",
            "Epoch 00033: val_loss did not improve from 0.95909\n",
            "\n",
            "Epoch 00033: ReduceLROnPlateau reducing learning rate to 3.200000264769187e-07.\n",
            "897/897 [==============================] - 27s 30ms/step - loss: 1.1456 - accuracy: 0.5757 - val_loss: 0.9602 - val_accuracy: 0.6419\n",
            "Epoch 34/50\n",
            "896/897 [============================>.] - ETA: 0s - loss: 1.1421 - accuracy: 0.5789\n",
            "Epoch 00034: val_loss did not improve from 0.95909\n",
            "897/897 [==============================] - 27s 30ms/step - loss: 1.1418 - accuracy: 0.5790 - val_loss: 0.9610 - val_accuracy: 0.6417\n",
            "Epoch 35/50\n",
            "896/897 [============================>.] - ETA: 0s - loss: 1.1398 - accuracy: 0.5761\n",
            "Epoch 00035: val_loss did not improve from 0.95909\n",
            "897/897 [==============================] - 27s 30ms/step - loss: 1.1398 - accuracy: 0.5761 - val_loss: 0.9620 - val_accuracy: 0.6413\n",
            "Epoch 36/50\n",
            "897/897 [==============================] - ETA: 0s - loss: 1.1459 - accuracy: 0.5754\n",
            "Epoch 00036: val_loss improved from 0.95909 to 0.95879, saving model to EmotionDetectionModel.h5\n",
            "897/897 [==============================] - 28s 31ms/step - loss: 1.1459 - accuracy: 0.5754 - val_loss: 0.9588 - val_accuracy: 0.6438\n",
            "Epoch 37/50\n",
            "897/897 [==============================] - ETA: 0s - loss: 1.1459 - accuracy: 0.5761\n",
            "Epoch 00037: val_loss did not improve from 0.95879\n",
            "897/897 [==============================] - 27s 31ms/step - loss: 1.1459 - accuracy: 0.5761 - val_loss: 0.9604 - val_accuracy: 0.6422\n",
            "Epoch 38/50\n",
            "897/897 [==============================] - ETA: 0s - loss: 1.1384 - accuracy: 0.5799\n",
            "Epoch 00038: val_loss did not improve from 0.95879\n",
            "897/897 [==============================] - 28s 31ms/step - loss: 1.1384 - accuracy: 0.5799 - val_loss: 0.9606 - val_accuracy: 0.6424\n",
            "Epoch 39/50\n",
            "896/897 [============================>.] - ETA: 0s - loss: 1.1433 - accuracy: 0.5802\n",
            "Epoch 00039: val_loss did not improve from 0.95879\n",
            "\n",
            "Epoch 00039: ReduceLROnPlateau reducing learning rate to 6.400000529538374e-08.\n",
            "897/897 [==============================] - 27s 30ms/step - loss: 1.1433 - accuracy: 0.5802 - val_loss: 0.9590 - val_accuracy: 0.6433\n",
            "Epoch 40/50\n",
            "897/897 [==============================] - ETA: 0s - loss: 1.1499 - accuracy: 0.5758\n",
            "Epoch 00040: val_loss did not improve from 0.95879\n",
            "897/897 [==============================] - 27s 30ms/step - loss: 1.1499 - accuracy: 0.5758 - val_loss: 0.9615 - val_accuracy: 0.6409\n",
            "Epoch 41/50\n",
            "896/897 [============================>.] - ETA: 0s - loss: 1.1371 - accuracy: 0.5814\n",
            "Epoch 00041: val_loss did not improve from 0.95879\n",
            "897/897 [==============================] - 27s 30ms/step - loss: 1.1372 - accuracy: 0.5814 - val_loss: 0.9604 - val_accuracy: 0.6422\n",
            "Epoch 42/50\n",
            "896/897 [============================>.] - ETA: 0s - loss: 1.1412 - accuracy: 0.5789\n",
            "Epoch 00042: val_loss did not improve from 0.95879\n",
            "\n",
            "Epoch 00042: ReduceLROnPlateau reducing learning rate to 1.2800001059076749e-08.\n",
            "897/897 [==============================] - 27s 30ms/step - loss: 1.1413 - accuracy: 0.5789 - val_loss: 0.9623 - val_accuracy: 0.6410\n",
            "Epoch 43/50\n",
            "897/897 [==============================] - ETA: 0s - loss: 1.1367 - accuracy: 0.5818\n",
            "Epoch 00043: val_loss did not improve from 0.95879\n",
            "897/897 [==============================] - 27s 30ms/step - loss: 1.1367 - accuracy: 0.5818 - val_loss: 0.9601 - val_accuracy: 0.6419\n",
            "Epoch 44/50\n",
            "896/897 [============================>.] - ETA: 0s - loss: 1.1375 - accuracy: 0.5776\n",
            "Epoch 00044: val_loss did not improve from 0.95879\n",
            "897/897 [==============================] - 27s 30ms/step - loss: 1.1379 - accuracy: 0.5774 - val_loss: 0.9610 - val_accuracy: 0.6417\n",
            "Epoch 45/50\n",
            "897/897 [==============================] - ETA: 0s - loss: 1.1345 - accuracy: 0.5811\n",
            "Epoch 00045: val_loss did not improve from 0.95879\n",
            "\n",
            "Epoch 00045: ReduceLROnPlateau reducing learning rate to 2.5600002118153498e-09.\n",
            "897/897 [==============================] - 27s 30ms/step - loss: 1.1345 - accuracy: 0.5811 - val_loss: 0.9619 - val_accuracy: 0.6409\n",
            "Epoch 46/50\n",
            "896/897 [============================>.] - ETA: 0s - loss: 1.1437 - accuracy: 0.5795\n",
            "Epoch 00046: val_loss did not improve from 0.95879\n",
            "897/897 [==============================] - 27s 30ms/step - loss: 1.1437 - accuracy: 0.5795 - val_loss: 0.9615 - val_accuracy: 0.6413\n",
            "Epoch 47/50\n",
            "896/897 [============================>.] - ETA: 0s - loss: 1.1363 - accuracy: 0.5813\n",
            "Epoch 00047: val_loss did not improve from 0.95879\n",
            "897/897 [==============================] - 27s 31ms/step - loss: 1.1363 - accuracy: 0.5814 - val_loss: 0.9621 - val_accuracy: 0.6415\n",
            "Epoch 48/50\n",
            "897/897 [==============================] - ETA: 0s - loss: 1.1471 - accuracy: 0.5781\n",
            "Epoch 00048: val_loss did not improve from 0.95879\n",
            "\n",
            "Epoch 00048: ReduceLROnPlateau reducing learning rate to 5.1200004236307e-10.\n",
            "897/897 [==============================] - 27s 30ms/step - loss: 1.1471 - accuracy: 0.5781 - val_loss: 0.9622 - val_accuracy: 0.6413\n",
            "Epoch 49/50\n",
            "896/897 [============================>.] - ETA: 0s - loss: 1.1312 - accuracy: 0.5827\n",
            "Epoch 00049: val_loss did not improve from 0.95879\n",
            "897/897 [==============================] - 27s 30ms/step - loss: 1.1310 - accuracy: 0.5827 - val_loss: 0.9625 - val_accuracy: 0.6417\n",
            "Epoch 50/50\n",
            "897/897 [==============================] - ETA: 0s - loss: 1.1421 - accuracy: 0.5800\n",
            "Epoch 00050: val_loss did not improve from 0.95879\n",
            "897/897 [==============================] - 27s 30ms/step - loss: 1.1421 - accuracy: 0.5800 - val_loss: 0.9625 - val_accuracy: 0.6399\n"
          ],
          "name": "stdout"
        }
      ]
    },
    {
      "cell_type": "code",
      "metadata": {
        "colab": {
          "base_uri": "https://localhost:8080/"
        },
        "id": "VTFL5z7RSE9W",
        "outputId": "f64d46d1-462d-438e-c006-3cebe0472f7e"
      },
      "source": [
        "model.save('EmotionDetectionModel')\n",
        "model.save('EmotionDetectionModel.h5')"
      ],
      "execution_count": 34,
      "outputs": [
        {
          "output_type": "stream",
          "text": [
            "INFO:tensorflow:Assets written to: EmotionDetectionModel/assets\n"
          ],
          "name": "stdout"
        }
      ]
    },
    {
      "cell_type": "code",
      "metadata": {
        "colab": {
          "base_uri": "https://localhost:8080/"
        },
        "id": "OpB8C4QKZLTK",
        "outputId": "828db4b1-f156-4bf1-ba18-9d5cae386b59"
      },
      "source": [
        "history.history.keys()"
      ],
      "execution_count": 27,
      "outputs": [
        {
          "output_type": "execute_result",
          "data": {
            "text/plain": [
              "dict_keys(['loss', 'accuracy', 'val_loss', 'val_accuracy', 'lr'])"
            ]
          },
          "metadata": {
            "tags": []
          },
          "execution_count": 27
        }
      ]
    },
    {
      "cell_type": "code",
      "metadata": {
        "colab": {
          "base_uri": "https://localhost:8080/",
          "height": 822
        },
        "id": "d6BeDgzgSE9W",
        "outputId": "53424076-6ffd-4375-cca8-abf05c6d1c89"
      },
      "source": [
        "#Plotting accuracy and loss curves for model\n",
        "\n",
        "# Loss Curves\n",
        "plt.figure(figsize=[8,6])\n",
        "plt.plot(history.history['loss'],'r',linewidth=2.0)\n",
        "plt.plot(history.history['val_loss'],'b',linewidth=2.0)\n",
        "plt.legend(['Training loss', 'Validation Loss'],fontsize=18)\n",
        "plt.xlabel('Epochs ',fontsize=16)\n",
        "plt.ylabel('Loss',fontsize=16)\n",
        "plt.title('Loss Curves',fontsize=16)\n",
        " \n",
        "# Accuracy Curves\n",
        "plt.figure(figsize=[8,6])\n",
        "plt.plot(history.history['accuracy'],'r',linewidth=2.0)\n",
        "plt.plot(history.history['val_accuracy'],'b',linewidth=2.0)\n",
        "plt.legend(['Training Accuracy', 'Validation Accuracy'],fontsize=18)\n",
        "plt.xlabel('Epochs ',fontsize=16)\n",
        "plt.ylabel('Accuracy',fontsize=16)\n",
        "plt.title('Accuracy Curves',fontsize=16)"
      ],
      "execution_count": 33,
      "outputs": [
        {
          "output_type": "execute_result",
          "data": {
            "text/plain": [
              "Text(0.5, 1.0, 'Accuracy Curves')"
            ]
          },
          "metadata": {
            "tags": []
          },
          "execution_count": 33
        },
        {
          "output_type": "display_data",
          "data": {
            "image/png": "[encoded data removed]",
            "text/plain": [
              "<Figure size 576x432 with 1 Axes>"
            ]
          },
          "metadata": {
            "tags": [],
            "needs_background": "light"
          }
        },
        {
          "output_type": "display_data",
          "data": {
            "image/png": "[encoded data removed]",
            "text/plain": [
              "<Figure size 576x432 with 1 Axes>"
            ]
          },
          "metadata": {
            "tags": [],
            "needs_background": "light"
          }
        }
      ]
    },
    {
      "cell_type": "code",
      "metadata": {
        "colab": {
          "base_uri": "https://localhost:8080/"
        },
        "id": "juOCK-nmSE9X",
        "outputId": "49558653-754d-4b29-b914-100e8f0764c4"
      },
      "source": [
        "from sklearn.metrics import classification_report\n",
        "\n",
        "y_pred = model.predict(validation_generator)\n",
        "predictions = np.argmax(y_pred, axis=1)\n",
        "print(classification_report(labels, predictions))"
      ],
      "execution_count": 66,
      "outputs": [
        {
          "output_type": "stream",
          "text": [
            "              precision    recall  f1-score   support\n",
            "\n",
            "           0       0.53      0.61      0.57       958\n",
            "           1       0.00      0.00      0.00       111\n",
            "           2       0.51      0.30      0.37      1024\n",
            "           3       0.89      0.87      0.88      1774\n",
            "           4       0.53      0.74      0.61      1233\n",
            "           5       0.53      0.51      0.52      1247\n",
            "           6       0.76      0.75      0.76       831\n",
            "\n",
            "    accuracy                           0.64      7178\n",
            "   macro avg       0.53      0.54      0.53      7178\n",
            "weighted avg       0.63      0.64      0.63      7178\n",
            "\n"
          ],
          "name": "stdout"
        },
        {
          "output_type": "stream",
          "text": [
            "/usr/local/lib/python3.6/dist-packages/sklearn/metrics/_classification.py:1272: UndefinedMetricWarning: Precision and F-score are ill-defined and being set to 0.0 in labels with no predicted samples. Use `zero_division` parameter to control this behavior.\n",
            "  _warn_prf(average, modifier, msg_start, len(result))\n"
          ],
          "name": "stderr"
        }
      ]
    },
    {
      "cell_type": "code",
      "metadata": {
        "colab": {
          "base_uri": "https://localhost:8080/"
        },
        "id": "UXNU-nZlwYoi",
        "outputId": "91ee82fb-d46b-493a-ec7a-f35a6f3025a7"
      },
      "source": [
        "result = classification_report(labels, predictions, output_dict=True)\n",
        "result['0'].keys()"
      ],
      "execution_count": 69,
      "outputs": [
        {
          "output_type": "stream",
          "text": [
            "/usr/local/lib/python3.6/dist-packages/sklearn/metrics/_classification.py:1272: UndefinedMetricWarning: Precision and F-score are ill-defined and being set to 0.0 in labels with no predicted samples. Use `zero_division` parameter to control this behavior.\n",
            "  _warn_prf(average, modifier, msg_start, len(result))\n"
          ],
          "name": "stderr"
        },
        {
          "output_type": "execute_result",
          "data": {
            "text/plain": [
              "dict_keys(['precision', 'recall', 'f1-score', 'support'])"
            ]
          },
          "metadata": {
            "tags": []
          },
          "execution_count": 69
        }
      ]
    },
    {
      "cell_type": "code",
      "metadata": {
        "colab": {
          "base_uri": "https://localhost:8080/"
        },
        "id": "Oji_bBUNwaRK",
        "outputId": "6e0fdbfb-88d5-4278-ef96-f166a4334c60"
      },
      "source": [
        "predictions = np.argmax(y_pred, axis=1)\n",
        "\n",
        "predictions"
      ],
      "execution_count": 43,
      "outputs": [
        {
          "output_type": "execute_result",
          "data": {
            "text/plain": [
              "array([2, 3, 2, ..., 3, 2, 6])"
            ]
          },
          "metadata": {
            "tags": []
          },
          "execution_count": 43
        }
      ]
    },
    {
      "cell_type": "code",
      "metadata": {
        "id": "nuj-vtuhwtB2"
      },
      "source": [
        "labels = []\n",
        "for res in validation_generator:\n",
        "    batch_labels = np.argmax(res[1], axis=1)\n",
        "    labels.extend(batch_labels)\n",
        "    if len(batch_labels) < batch_size:\n",
        "        break"
      ],
      "execution_count": 62,
      "outputs": []
    },
    {
      "cell_type": "code",
      "metadata": {
        "colab": {
          "base_uri": "https://localhost:8080/"
        },
        "id": "mrZo9yHZxRnP",
        "outputId": "8421f94a-6bde-4cc9-ddb5-48ba89c4af5d"
      },
      "source": [
        "len(labels)"
      ],
      "execution_count": 64,
      "outputs": [
        {
          "output_type": "execute_result",
          "data": {
            "text/plain": [
              "7178"
            ]
          },
          "metadata": {
            "tags": []
          },
          "execution_count": 64
        }
      ]
    },
    {
      "cell_type": "code",
      "metadata": {
        "colab": {
          "base_uri": "https://localhost:8080/"
        },
        "id": "xW7mO_J_x59m",
        "outputId": "9dde5cf9-c54e-40de-cd6e-2716b24d7c9f"
      },
      "source": [
        "len(lables)"
      ],
      "execution_count": 60,
      "outputs": [
        {
          "output_type": "execute_result",
          "data": {
            "text/plain": [
              "0"
            ]
          },
          "metadata": {
            "tags": []
          },
          "execution_count": 60
        }
      ]
    },
    {
      "cell_type": "code",
      "metadata": {
        "id": "pZPW2aJ-x_8a"
      },
      "source": [
        ""
      ],
      "execution_count": null,
      "outputs": []
    }
  ]
}