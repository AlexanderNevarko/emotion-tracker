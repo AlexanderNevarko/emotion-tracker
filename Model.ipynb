{
  "nbformat": 4,
  "nbformat_minor": 0,
  "metadata": {
    "accelerator": "GPU",
    "colab": {
      "name": "Model.ipynb",
      "provenance": [],
      "collapsed_sections": []
    },
    "kernelspec": {
      "display_name": "Python 3",
      "language": "python",
      "name": "python3"
    },
    "language_info": {
      "codemirror_mode": {
        "name": "ipython",
        "version": 3
      },
      "file_extension": ".py",
      "mimetype": "text/x-python",
      "name": "python",
      "nbconvert_exporter": "python",
      "pygments_lexer": "ipython3",
      "version": "3.8.5"
    }
  },
  "cells": [
    {
      "cell_type": "markdown",
      "metadata": {
        "id": "k-PhQ6ORSE9F"
      },
      "source": [
        "# General imports"
      ]
    },
    {
      "cell_type": "code",
      "metadata": {
        "id": "q9znd9MuSE9P"
      },
      "source": [
        "from __future__ import print_function\n",
        "import keras\n",
        "from keras.preprocessing.image import ImageDataGenerator\n",
        "from keras.models import Sequential\n",
        "from keras.layers import Dense,Dropout,Activation,Flatten,BatchNormalization\n",
        "from keras.layers import Conv2D,MaxPooling2D\n",
        "from keras.optimizers import RMSprop,SGD,Adam\n",
        "from keras.callbacks import ModelCheckpoint, EarlyStopping, ReduceLROnPlateau\n",
        "import matplotlib.pyplot as plt\n",
        "import pandas as pd\n",
        "import numpy as np\n",
        "import torch\n",
        "import os"
      ],
      "execution_count": 1,
      "outputs": []
    },
    {
      "cell_type": "markdown",
      "metadata": {
        "id": "5py4QRfxSE9Q"
      },
      "source": [
        "# Upload the dataset"
      ]
    },
    {
      "cell_type": "code",
      "metadata": {
        "id": "3TEPcDqSSxSu"
      },
      "source": [
        "!unzip fer_2013.zip"
      ],
      "execution_count": null,
      "outputs": []
    },
    {
      "cell_type": "code",
      "metadata": {
        "id": "XmjrGPZRSE9R"
      },
      "source": [
        "train_data_dir='fer_2013/train'\n",
        "validation_data_dir='fer_2013/test'"
      ],
      "execution_count": 3,
      "outputs": []
    },
    {
      "cell_type": "code",
      "metadata": {
        "id": "ybH1lMCiSE9R"
      },
      "source": [
        "num_classes = 7\n",
        "img_shape = (48, 48)\n",
        "batch_size = 32"
      ],
      "execution_count": 4,
      "outputs": []
    },
    {
      "cell_type": "code",
      "metadata": {
        "id": "vFa1OxGVSE9S"
      },
      "source": [
        "train_datagen = ImageDataGenerator(\n",
        "                rescale=1./255,\n",
        "                rotation_range=30,\n",
        "                shear_range=0.3,\n",
        "                zoom_range=0.3,\n",
        "                width_shift_range=0.4,\n",
        "                height_shift_range=0.4,\n",
        "                horizontal_flip=True,\n",
        "                fill_mode='nearest')\n",
        "validation_datagen = ImageDataGenerator(rescale=1./255)"
      ],
      "execution_count": 5,
      "outputs": []
    },
    {
      "cell_type": "markdown",
      "metadata": {
        "id": "Bcl-t0mzSE9S"
      },
      "source": [
        "The train_datagen variable will artificially expand the dataset using the following:\n",
        "* rotation_range: Degree range for random rotations. Here we decide to use 30 degrees.\n",
        "* shear_range: Shear Intensity (Shear angle in counter-clockwise direction in degrees). Herewe decide to use 0.3 as shear range.\n",
        "* zoom_range: Range for random zoom.Herewe decide to use 0.3 as zoom range.\n",
        "* width_shift_range: This shifts the images by a value across its width.\n",
        "* height_shift_range : This shifts the images by a value across its height.\n",
        "* horizontal_flip: This flips the images horizontally.\n",
        "* fill_mode: This is used to fill in the pixels after making changes to the orientation of the images by the above used methods. Here we decide to use ‘nearest’ as the fill mode as we instruct it to fill the missing pixels in the image with the nearby pixels."
      ]
    },
    {
      "cell_type": "code",
      "metadata": {
        "colab": {
          "base_uri": "https://localhost:8080/"
        },
        "id": "pYn4H6Q0SE9S",
        "outputId": "2317d841-84be-4380-9617-e2dab37737b9"
      },
      "source": [
        "train_generator = train_datagen.flow_from_directory(\n",
        "                                    train_data_dir,\n",
        "                                    color_mode='grayscale',\n",
        "                                    target_size=img_shape,\n",
        "                                    batch_size=batch_size,\n",
        "                                    class_mode='categorical',\n",
        "                                    shuffle=True)\n",
        "\n",
        "validation_generator = validation_datagen.flow_from_directory(\n",
        "                                validation_data_dir,\n",
        "                                color_mode='grayscale',\n",
        "                                target_size=img_shape,\n",
        "                                batch_size=batch_size,\n",
        "                                class_mode='categorical',\n",
        "                                shuffle=False)"
      ],
      "execution_count": 6,
      "outputs": [
        {
          "output_type": "stream",
          "text": [
            "Found 28709 images belonging to 7 classes.\n",
            "Found 7178 images belonging to 7 classes.\n"
          ],
          "name": "stdout"
        }
      ]
    },
    {
      "cell_type": "code",
      "metadata": {
        "id": "bqeq356C_pP_"
      },
      "source": [
        "emo_dct = train_generator.class_indices\n",
        "reversed_emo_dct = {v: k for k, v in emo_dct.items()}"
      ],
      "execution_count": 80,
      "outputs": []
    },
    {
      "cell_type": "markdown",
      "metadata": {
        "id": "doRT2DgnSE9U"
      },
      "source": [
        "Here we just resclaing the validation data and not performing any other augmentaions as we want to check the model with raw data that is different from the data used in the training of the model.\n",
        "\n",
        "The dataset contains totally 7 classes namely Angry, Disgust, Fear, Happy, Sad, Surprise and Neutral. The training set consists of a total of 28,709 examples and the test (validation) consists of 7,178 examples.\n",
        "\n",
        "The options given are:\n",
        "* directory: The directory of the dataset.\n",
        "* color_mode: Here we convert the images to gray-scale as i am not interested in the color of the images but only the expressions.\n",
        "* target_size: Convert the images to a uniform size.\n",
        "* batch_size: To make baches of data to train.\n",
        "* class_mode: Her we use ‘categorical’ as the class mode as i am categorizing my images into 5 classes.\n",
        "* shuffle: To shuffle the dataset for better training."
      ]
    },
    {
      "cell_type": "markdown",
      "metadata": {
        "id": "rPqrkLXiUgXe"
      },
      "source": [
        "## 1. Classical approach\n",
        "\n",
        "\n",
        "Let's try to solve the problem, using Histograms of Oriented Gradients (hog)."
      ]
    },
    {
      "cell_type": "code",
      "metadata": {
        "id": "F-kM8ucuUsqH"
      },
      "source": [
        "import cv2\n",
        "from skimage.feature import hog\n",
        "from sklearn import svm\n",
        "from sklearn.decomposition import PCA\n",
        "from sklearn.metrics import classification_report, accuracy_score"
      ],
      "execution_count": 8,
      "outputs": []
    },
    {
      "cell_type": "code",
      "metadata": {
        "id": "OqxztQz9UslW"
      },
      "source": [
        "emotions = ['angry', 'disgusted', 'fearful', 'happy', 'sad', 'surprised', 'neutral']\n",
        "train_data_dict = {\n",
        "    'emotion': [],\n",
        "    'usage': [],\n",
        "    'image': [],\n",
        "}\n",
        "\n",
        "test_data_dict = {\n",
        "    'emotion': [],\n",
        "    'usage': [],\n",
        "    'image': [],\n",
        "}\n",
        "for emo in emotions:\n",
        "    dir_list = os.listdir(os.path.join(train_data_dir, emo))\n",
        "    train_data_dict['emotion'].extend([emo] * len(dir_list))\n",
        "    train_data_dict['usage'].extend(['Train'] * len(dir_list))\n",
        "    train_data_dict['image'].extend(dir_list)\n",
        "    \n",
        "    dir_list = os.listdir(os.path.join(validation_data_dir, emo))\n",
        "    test_data_dict['emotion'].extend([emo] * len(dir_list))\n",
        "    test_data_dict['usage'].extend(['Test'] * len(dir_list))\n",
        "    test_data_dict['image'].extend(dir_list)\n",
        "    \n",
        "train_data = pd.DataFrame.from_dict(train_data_dict)\n",
        "test_data = pd.DataFrame.from_dict(test_data_dict)"
      ],
      "execution_count": 9,
      "outputs": []
    },
    {
      "cell_type": "code",
      "metadata": {
        "id": "JG6cH5ApUsik"
      },
      "source": [
        "def apply_hog(img_series):\n",
        "    if img_series.usage == 'Train':\n",
        "        dir_path = train_data_dir\n",
        "    else:\n",
        "        dir_path = validation_data_dir\n",
        "\n",
        "    img = cv2.imread(os.path.join(dir_path, img_series.emotion, img_series.image))\n",
        "    return np.asarray(hog(img, orientations=8, pixels_per_cell=(6, 6), cells_per_block=(3, 3)))"
      ],
      "execution_count": 10,
      "outputs": []
    },
    {
      "cell_type": "markdown",
      "metadata": {
        "id": "1W2fM2ZUcg_t"
      },
      "source": [
        "Example:"
      ]
    },
    {
      "cell_type": "code",
      "metadata": {
        "colab": {
          "base_uri": "https://localhost:8080/",
          "height": 387
        },
        "id": "yxxq9bIdcfHO",
        "outputId": "33c87ea6-6708-43ee-8a1e-a1ba614db754"
      },
      "source": [
        "img_series = train_data.iloc[43]\n",
        "img = cv2.imread(os.path.join(train_data_dir, img_series.emotion, img_series.image))\n",
        "_, hog_img = hog(img, orientations=8, pixels_per_cell=(6, 6), cells_per_block=(3, 3), visualize=True)\n",
        "\n",
        "fig = plt.figure(figsize=(10, 5))\n",
        "ax = fig.add_subplot(121)\n",
        "ax.imshow(img)\n",
        "ax.set_title('Original image', fontsize=16)\n",
        "ax.grid(False)\n",
        "\n",
        "ax = fig.add_subplot(122)\n",
        "ax.imshow(hog_img)\n",
        "ax.set_title('HOG image', fontsize=16)\n",
        "ax.grid(False)\n",
        "\n",
        "fig.subplots_adjust()\n",
        "fig.tight_layout()"
      ],
      "execution_count": 11,
      "outputs": [
        {
          "output_type": "display_data",
          "data": {
            "image/png": "[encoded data removed]",
            "text/plain": [
              "<Figure size 720x360 with 2 Axes>"
            ]
          },
          "metadata": {
            "tags": [],
            "needs_background": "light"
          }
        }
      ]
    },
    {
      "cell_type": "code",
      "metadata": {
        "id": "LFUqe6XdUsc_"
      },
      "source": [
        "train_data['hog'] = train_data.apply(apply_hog, axis=1)\n",
        "test_data['hog'] = test_data.apply(apply_hog, axis=1)"
      ],
      "execution_count": 12,
      "outputs": []
    },
    {
      "cell_type": "code",
      "metadata": {
        "colab": {
          "base_uri": "https://localhost:8080/",
          "height": 204
        },
        "id": "Ng9CFkBwYUYJ",
        "outputId": "6f640b66-18a5-4786-ba66-13fd0ef38aa9"
      },
      "source": [
        "train_data.head()"
      ],
      "execution_count": 13,
      "outputs": [
        {
          "output_type": "execute_result",
          "data": {
            "text/html": [
              "<div>\n",
              "<style scoped>\n",
              "    .dataframe tbody tr th:only-of-type {\n",
              "        vertical-align: middle;\n",
              "    }\n",
              "\n",
              "    .dataframe tbody tr th {\n",
              "        vertical-align: top;\n",
              "    }\n",
              "\n",
              "    .dataframe thead th {\n",
              "        text-align: right;\n",
              "    }\n",
              "</style>\n",
              "<table border=\"1\" class=\"dataframe\">\n",
              "  <thead>\n",
              "    <tr style=\"text-align: right;\">\n",
              "      <th></th>\n",
              "      <th>emotion</th>\n",
              "      <th>usage</th>\n",
              "      <th>image</th>\n",
              "      <th>hog</th>\n",
              "    </tr>\n",
              "  </thead>\n",
              "  <tbody>\n",
              "    <tr>\n",
              "      <th>0</th>\n",
              "      <td>angry</td>\n",
              "      <td>Train</td>\n",
              "      <td>im3328.png</td>\n",
              "      <td>[0.19549886344936687, 0.03169163726050675, 0.1...</td>\n",
              "    </tr>\n",
              "    <tr>\n",
              "      <th>1</th>\n",
              "      <td>angry</td>\n",
              "      <td>Train</td>\n",
              "      <td>im1732.png</td>\n",
              "      <td>[0.026208981743949745, 0.0041619552812732965, ...</td>\n",
              "    </tr>\n",
              "    <tr>\n",
              "      <th>2</th>\n",
              "      <td>angry</td>\n",
              "      <td>Train</td>\n",
              "      <td>im1257.png</td>\n",
              "      <td>[0.13868694403509282, 0.026325741319812114, 0....</td>\n",
              "    </tr>\n",
              "    <tr>\n",
              "      <th>3</th>\n",
              "      <td>angry</td>\n",
              "      <td>Train</td>\n",
              "      <td>im3613.png</td>\n",
              "      <td>[0.22998044436155374, 0.1551455254660307, 0.21...</td>\n",
              "    </tr>\n",
              "    <tr>\n",
              "      <th>4</th>\n",
              "      <td>angry</td>\n",
              "      <td>Train</td>\n",
              "      <td>im3070.png</td>\n",
              "      <td>[0.18273031481581584, 0.1415990387292931, 0.28...</td>\n",
              "    </tr>\n",
              "  </tbody>\n",
              "</table>\n",
              "</div>"
            ],
            "text/plain": [
              "  emotion  usage       image                                                hog\n",
              "0   angry  Train  im3328.png  [0.19549886344936687, 0.03169163726050675, 0.1...\n",
              "1   angry  Train  im1732.png  [0.026208981743949745, 0.0041619552812732965, ...\n",
              "2   angry  Train  im1257.png  [0.13868694403509282, 0.026325741319812114, 0....\n",
              "3   angry  Train  im3613.png  [0.22998044436155374, 0.1551455254660307, 0.21...\n",
              "4   angry  Train  im3070.png  [0.18273031481581584, 0.1415990387292931, 0.28..."
            ]
          },
          "metadata": {
            "tags": []
          },
          "execution_count": 13
        }
      ]
    },
    {
      "cell_type": "code",
      "metadata": {
        "colab": {
          "base_uri": "https://localhost:8080/"
        },
        "id": "5YXYLPKoYUSU",
        "outputId": "271d92c0-a539-4192-95eb-30e60704721b"
      },
      "source": [
        "len(train_data.iloc[0].hog)"
      ],
      "execution_count": 14,
      "outputs": [
        {
          "output_type": "execute_result",
          "data": {
            "text/plain": [
              "2592"
            ]
          },
          "metadata": {
            "tags": []
          },
          "execution_count": 14
        }
      ]
    },
    {
      "cell_type": "markdown",
      "metadata": {
        "id": "n3TteyMpbrIR"
      },
      "source": [
        "Next we need to train the classifier, we will use SVM. But the amount of features is quite high, combining it with the number of train cases, which is also high (28,709). This fact will make the learning process very long, so we will use Principal Component Analysis to reduce the amount of data."
      ]
    },
    {
      "cell_type": "code",
      "metadata": {
        "id": "m1Ci9wCVfnue"
      },
      "source": [
        "X_train, y_train = np.vstack(train_data.hog.to_numpy()), train_data.emotion\n",
        "X_test, y_test = np.vstack(test_data.hog.to_numpy()), test_data.emotion"
      ],
      "execution_count": 50,
      "outputs": []
    },
    {
      "cell_type": "code",
      "metadata": {
        "colab": {
          "base_uri": "https://localhost:8080/"
        },
        "id": "_SlVMuZFgHLc",
        "outputId": "4265f544-95de-4ff4-f72e-7ab96931be6a"
      },
      "source": [
        "X_train.shape"
      ],
      "execution_count": 16,
      "outputs": [
        {
          "output_type": "execute_result",
          "data": {
            "text/plain": [
              "(28709, 2592)"
            ]
          },
          "metadata": {
            "tags": []
          },
          "execution_count": 16
        }
      ]
    },
    {
      "cell_type": "code",
      "metadata": {
        "colab": {
          "base_uri": "https://localhost:8080/",
          "height": 522
        },
        "id": "HWAIY9rKlntF",
        "outputId": "13f5e733-4d74-4eb5-da85-ed2cf71e38ca"
      },
      "source": [
        "# To reduce the computation time\n",
        "u, s, vh = np.linalg.svd(X_train[:100])\n",
        "plt.figure(figsize=(10, 8))\n",
        "plt.title('Singular values of hog feature matrix', fontsize=16)\n",
        "plt.ylabel('S / S[0]', fontsize=14)\n",
        "plt.xlabel('singular value index', fontsize=14)\n",
        "plt.grid(True)\n",
        "plt.xticks(fontsize=12)\n",
        "plt.yticks(fontsize=12)\n",
        "plt.yscale('log')\n",
        "_ = plt.plot(s/s[0])"
      ],
      "execution_count": 46,
      "outputs": [
        {
          "output_type": "display_data",
          "data": {
            "image/png": "[encoded data removed]",
            "text/plain": [
              "<Figure size 720x576 with 1 Axes>"
            ]
          },
          "metadata": {
            "tags": [],
            "needs_background": "light"
          }
        }
      ]
    },
    {
      "cell_type": "markdown",
      "metadata": {
        "id": "puN4d8FZ0B6R"
      },
      "source": [
        "We can see, that only the first 2 singular values are significant and we can project hog vectors to 2-dimetional space using PCA."
      ]
    },
    {
      "cell_type": "code",
      "metadata": {
        "id": "tjvodyMGYUMf"
      },
      "source": [
        "clf = svm.SVC()\n",
        "pca = PCA(n_components=2)"
      ],
      "execution_count": 28,
      "outputs": []
    },
    {
      "cell_type": "code",
      "metadata": {
        "id": "UwJrezFGYUGu"
      },
      "source": [
        "small_X = pca.fit_transform(X_train)"
      ],
      "execution_count": 29,
      "outputs": []
    },
    {
      "cell_type": "code",
      "metadata": {
        "colab": {
          "base_uri": "https://localhost:8080/",
          "height": 283
        },
        "id": "EWCI4FfXpz10",
        "outputId": "d8a8e530-f1d9-4255-a86c-522f8cdd2b40"
      },
      "source": [
        "n_to_look = np.random.randint(0, X_train.shape[0], 100)\n",
        "colors = [emo_dct[emo] for emo in y_train[n_to_look]]\n",
        "plt.scatter(x=X_train[n_to_look, 0], y=X_train[n_to_look, 1], c=colors)\n",
        "_ = plt.title('HOG features for different classes (by color)', fontsize=16)"
      ],
      "execution_count": 45,
      "outputs": [
        {
          "output_type": "display_data",
          "data": {
            "image/png": "[encoded data removed]",
            "text/plain": [
              "<Figure size 432x288 with 1 Axes>"
            ]
          },
          "metadata": {
            "tags": [],
            "needs_background": "light"
          }
        }
      ]
    },
    {
      "cell_type": "code",
      "metadata": {
        "colab": {
          "base_uri": "https://localhost:8080/"
        },
        "id": "plh-dFk5plip",
        "outputId": "c42813c9-4288-4c6d-fda4-dfa63b4a034b"
      },
      "source": [
        "clf.fit(small_X, y_train)"
      ],
      "execution_count": 30,
      "outputs": [
        {
          "output_type": "execute_result",
          "data": {
            "text/plain": [
              "SVC(C=1.0, break_ties=False, cache_size=200, class_weight=None, coef0=0.0,\n",
              "    decision_function_shape='ovr', degree=3, gamma='scale', kernel='rbf',\n",
              "    max_iter=-1, probability=False, random_state=None, shrinking=True,\n",
              "    tol=0.001, verbose=False)"
            ]
          },
          "metadata": {
            "tags": []
          },
          "execution_count": 30
        }
      ]
    },
    {
      "cell_type": "code",
      "metadata": {
        "id": "krhTKFv0pla4"
      },
      "source": [
        "small_X_test = pca.fit_transform(X_test)"
      ],
      "execution_count": 51,
      "outputs": []
    },
    {
      "cell_type": "code",
      "metadata": {
        "id": "D4PJvYQAplUB"
      },
      "source": [
        "y_pred = clf.predict(small_X_test)"
      ],
      "execution_count": 53,
      "outputs": []
    },
    {
      "cell_type": "code",
      "metadata": {
        "colab": {
          "base_uri": "https://localhost:8080/"
        },
        "id": "kdD_smb3qE9r",
        "outputId": "f7652fd4-4584-408d-84f5-36de397a3d86"
      },
      "source": [
        "print(\"Accuracy: \" + str(accuracy_score(y_test, y_pred)), end='\\n\\n')\n",
        "print(classification_report(y_test, y_pred))"
      ],
      "execution_count": 54,
      "outputs": [
        {
          "output_type": "stream",
          "text": [
            "Accuracy: 0.25452772359988857\n",
            "\n",
            "              precision    recall  f1-score   support\n",
            "\n",
            "       angry       0.00      0.00      0.00       958\n",
            "   disgusted       0.00      0.00      0.00       111\n",
            "     fearful       0.00      0.00      0.00      1024\n",
            "       happy       0.25      0.88      0.39      1774\n",
            "     neutral       0.20      0.00      0.01      1233\n",
            "         sad       0.27      0.20      0.23      1247\n",
            "   surprised       0.00      0.00      0.00       831\n",
            "\n",
            "    accuracy                           0.25      7178\n",
            "   macro avg       0.10      0.16      0.09      7178\n",
            "weighted avg       0.14      0.25      0.14      7178\n",
            "\n"
          ],
          "name": "stdout"
        },
        {
          "output_type": "stream",
          "text": [
            "/usr/local/lib/python3.6/dist-packages/sklearn/metrics/_classification.py:1272: UndefinedMetricWarning: Precision and F-score are ill-defined and being set to 0.0 in labels with no predicted samples. Use `zero_division` parameter to control this behavior.\n",
            "  _warn_prf(average, modifier, msg_start, len(result))\n"
          ],
          "name": "stderr"
        }
      ]
    },
    {
      "cell_type": "markdown",
      "metadata": {
        "id": "KueppX1Ds5Mr"
      },
      "source": [
        "As we can see, the results are terrible. We suppose, there are several reasons for that:\n",
        "\n",
        "* Small resolution of dataset pictures, only 48x48, which makes only 8x8 = 64 hog cells. If we make the cell size smaller, the gradients and their directions will be counted badly.\n",
        "* Hog wprks well for pattern recognition, so mayy be we need to preprocess the dataset images better.\n",
        "* Conduct some grid search for SVM and HOG hyperpatrameters.\n",
        "\n",
        "Still, we suppose, that it is easier to use modern approach - neural networks, specifically convolutional NNs."
      ]
    },
    {
      "cell_type": "markdown",
      "metadata": {
        "id": "m1MfifB7uKhe"
      },
      "source": [
        "## 2. CNN\n",
        "\n",
        "CNNs are widely used in computer vision and have prooven their strength and reliability."
      ]
    },
    {
      "cell_type": "code",
      "metadata": {
        "id": "29Q3OzzpSE9U"
      },
      "source": [
        "model = Sequential()"
      ],
      "execution_count": 55,
      "outputs": []
    },
    {
      "cell_type": "markdown",
      "metadata": {
        "id": "nzJLN8TGSE9U"
      },
      "source": [
        "Here we use a Sequential model which defines that all the layers in the network will be one after the other sequentially and storing it in a variable model."
      ]
    },
    {
      "cell_type": "code",
      "metadata": {
        "colab": {
          "base_uri": "https://localhost:8080/"
        },
        "id": "M7777iPySE9U",
        "outputId": "f606b899-8ec7-415a-8f03-0ceaf04b9a42"
      },
      "source": [
        "# Block 1\n",
        "model.add(Conv2D(32,(3,3),padding='same',kernel_initializer='he_normal',input_shape=(img_shape[0],img_shape[1],1)))\n",
        "model.add(Activation('elu'))\n",
        "model.add(BatchNormalization())\n",
        "model.add(Conv2D(32,(3,3),padding='same',kernel_initializer='he_normal',input_shape=(img_shape[0],img_shape[1],1)))\n",
        "model.add(Activation('elu'))\n",
        "model.add(BatchNormalization())\n",
        "model.add(MaxPooling2D(pool_size=(2,2)))\n",
        "model.add(Dropout(0.2))\n",
        "# Block 2\n",
        "model.add(Conv2D(64,(3,3),padding='same',kernel_initializer='he_normal'))\n",
        "model.add(Activation('elu'))\n",
        "model.add(BatchNormalization())\n",
        "model.add(Conv2D(64,(3,3),padding='same',kernel_initializer='he_normal'))\n",
        "model.add(Activation('elu'))\n",
        "model.add(BatchNormalization())\n",
        "model.add(MaxPooling2D(pool_size=(2,2)))\n",
        "model.add(Dropout(0.2))\n",
        "# Block 3\n",
        "model.add(Conv2D(128,(3,3),padding='same',kernel_initializer='he_normal'))\n",
        "model.add(Activation('elu'))\n",
        "model.add(BatchNormalization())\n",
        "model.add(Conv2D(128,(3,3),padding='same',kernel_initializer='he_normal'))\n",
        "model.add(Activation('elu'))\n",
        "model.add(BatchNormalization())\n",
        "model.add(MaxPooling2D(pool_size=(2,2)))\n",
        "model.add(Dropout(0.2))\n",
        "# Block 4\n",
        "model.add(Conv2D(256,(3,3),padding='same',kernel_initializer='he_normal'))\n",
        "model.add(Activation('elu'))\n",
        "model.add(BatchNormalization())\n",
        "model.add(Conv2D(256,(3,3),padding='same',kernel_initializer='he_normal'))\n",
        "model.add(Activation('elu'))\n",
        "model.add(BatchNormalization())\n",
        "model.add(MaxPooling2D(pool_size=(2,2)))\n",
        "model.add(Dropout(0.2))\n",
        "# Block 5\n",
        "model.add(Flatten())\n",
        "model.add(Dense(64,kernel_initializer='he_normal'))\n",
        "model.add(Activation('elu'))\n",
        "model.add(BatchNormalization())\n",
        "model.add(Dropout(0.5))\n",
        "# Block 6\n",
        "model.add(Dense(64,kernel_initializer='he_normal'))\n",
        "model.add(Activation('elu'))\n",
        "model.add(BatchNormalization())\n",
        "model.add(Dropout(0.5))\n",
        "# Block 7\n",
        "model.add(Dense(num_classes,kernel_initializer='he_normal'))\n",
        "model.add(Activation('softmax'))\n",
        "\n",
        "print(model.summary())"
      ],
      "execution_count": 56,
      "outputs": [
        {
          "output_type": "stream",
          "text": [
            "Model: \"sequential\"\n",
            "_________________________________________________________________\n",
            "Layer (type)                 Output Shape              Param #   \n",
            "=================================================================\n",
            "conv2d (Conv2D)              (None, 48, 48, 32)        320       \n",
            "_________________________________________________________________\n",
            "activation (Activation)      (None, 48, 48, 32)        0         \n",
            "_________________________________________________________________\n",
            "batch_normalization (BatchNo (None, 48, 48, 32)        128       \n",
            "_________________________________________________________________\n",
            "conv2d_1 (Conv2D)            (None, 48, 48, 32)        9248      \n",
            "_________________________________________________________________\n",
            "activation_1 (Activation)    (None, 48, 48, 32)        0         \n",
            "_________________________________________________________________\n",
            "batch_normalization_1 (Batch (None, 48, 48, 32)        128       \n",
            "_________________________________________________________________\n",
            "max_pooling2d (MaxPooling2D) (None, 24, 24, 32)        0         \n",
            "_________________________________________________________________\n",
            "dropout (Dropout)            (None, 24, 24, 32)        0         \n",
            "_________________________________________________________________\n",
            "conv2d_2 (Conv2D)            (None, 24, 24, 64)        18496     \n",
            "_________________________________________________________________\n",
            "activation_2 (Activation)    (None, 24, 24, 64)        0         \n",
            "_________________________________________________________________\n",
            "batch_normalization_2 (Batch (None, 24, 24, 64)        256       \n",
            "_________________________________________________________________\n",
            "conv2d_3 (Conv2D)            (None, 24, 24, 64)        36928     \n",
            "_________________________________________________________________\n",
            "activation_3 (Activation)    (None, 24, 24, 64)        0         \n",
            "_________________________________________________________________\n",
            "batch_normalization_3 (Batch (None, 24, 24, 64)        256       \n",
            "_________________________________________________________________\n",
            "max_pooling2d_1 (MaxPooling2 (None, 12, 12, 64)        0         \n",
            "_________________________________________________________________\n",
            "dropout_1 (Dropout)          (None, 12, 12, 64)        0         \n",
            "_________________________________________________________________\n",
            "conv2d_4 (Conv2D)            (None, 12, 12, 128)       73856     \n",
            "_________________________________________________________________\n",
            "activation_4 (Activation)    (None, 12, 12, 128)       0         \n",
            "_________________________________________________________________\n",
            "batch_normalization_4 (Batch (None, 12, 12, 128)       512       \n",
            "_________________________________________________________________\n",
            "conv2d_5 (Conv2D)            (None, 12, 12, 128)       147584    \n",
            "_________________________________________________________________\n",
            "activation_5 (Activation)    (None, 12, 12, 128)       0         \n",
            "_________________________________________________________________\n",
            "batch_normalization_5 (Batch (None, 12, 12, 128)       512       \n",
            "_________________________________________________________________\n",
            "max_pooling2d_2 (MaxPooling2 (None, 6, 6, 128)         0         \n",
            "_________________________________________________________________\n",
            "dropout_2 (Dropout)          (None, 6, 6, 128)         0         \n",
            "_________________________________________________________________\n",
            "conv2d_6 (Conv2D)            (None, 6, 6, 256)         295168    \n",
            "_________________________________________________________________\n",
            "activation_6 (Activation)    (None, 6, 6, 256)         0         \n",
            "_________________________________________________________________\n",
            "batch_normalization_6 (Batch (None, 6, 6, 256)         1024      \n",
            "_________________________________________________________________\n",
            "conv2d_7 (Conv2D)            (None, 6, 6, 256)         590080    \n",
            "_________________________________________________________________\n",
            "activation_7 (Activation)    (None, 6, 6, 256)         0         \n",
            "_________________________________________________________________\n",
            "batch_normalization_7 (Batch (None, 6, 6, 256)         1024      \n",
            "_________________________________________________________________\n",
            "max_pooling2d_3 (MaxPooling2 (None, 3, 3, 256)         0         \n",
            "_________________________________________________________________\n",
            "dropout_3 (Dropout)          (None, 3, 3, 256)         0         \n",
            "_________________________________________________________________\n",
            "flatten (Flatten)            (None, 2304)              0         \n",
            "_________________________________________________________________\n",
            "dense (Dense)                (None, 64)                147520    \n",
            "_________________________________________________________________\n",
            "activation_8 (Activation)    (None, 64)                0         \n",
            "_________________________________________________________________\n",
            "batch_normalization_8 (Batch (None, 64)                256       \n",
            "_________________________________________________________________\n",
            "dropout_4 (Dropout)          (None, 64)                0         \n",
            "_________________________________________________________________\n",
            "dense_1 (Dense)              (None, 64)                4160      \n",
            "_________________________________________________________________\n",
            "activation_9 (Activation)    (None, 64)                0         \n",
            "_________________________________________________________________\n",
            "batch_normalization_9 (Batch (None, 64)                256       \n",
            "_________________________________________________________________\n",
            "dropout_5 (Dropout)          (None, 64)                0         \n",
            "_________________________________________________________________\n",
            "dense_2 (Dense)              (None, 7)                 455       \n",
            "_________________________________________________________________\n",
            "activation_10 (Activation)   (None, 7)                 0         \n",
            "=================================================================\n",
            "Total params: 1,328,167\n",
            "Trainable params: 1,325,991\n",
            "Non-trainable params: 2,176\n",
            "_________________________________________________________________\n",
            "None\n"
          ],
          "name": "stdout"
        }
      ]
    },
    {
      "cell_type": "code",
      "metadata": {
        "id": "wDHGdeWBSE9V"
      },
      "source": [
        "checkpoint = ModelCheckpoint('EmotionDetectionModel.h5',\n",
        "                             monitor='val_loss',\n",
        "                             mode='min',\n",
        "                             save_best_only=True,\n",
        "                             verbose=1)\n",
        "\n",
        "earlystop = EarlyStopping(monitor='val_loss',\n",
        "                          min_delta=0,\n",
        "                          patience=3,\n",
        "                          verbose=1,\n",
        "                          restore_best_weights=True\n",
        "                          )\n",
        "\n",
        "reduce_lr = ReduceLROnPlateau(monitor='val_loss',\n",
        "                              factor=0.2,\n",
        "                              patience=3,\n",
        "                              verbose=1,\n",
        "                              min_delta=0.0001)\n",
        "\n",
        "callbacks = [checkpoint, reduce_lr]"
      ],
      "execution_count": 57,
      "outputs": []
    },
    {
      "cell_type": "code",
      "metadata": {
        "colab": {
          "base_uri": "https://localhost:8080/"
        },
        "id": "_J9W5PhlSE9V",
        "scrolled": false,
        "outputId": "8cb89477-1825-4a20-c74a-ce9cdccfcc88"
      },
      "source": [
        "model.compile(loss='categorical_crossentropy',\n",
        "              optimizer = Adam(lr=0.001),\n",
        "              metrics=['accuracy'])\n",
        "\n",
        "nb_train_samples = 28709\n",
        "nb_validation_samples = 7178\n",
        "epochs = 50\n",
        "\n",
        "history = model.fit_generator(\n",
        "                train_generator,\n",
        "                steps_per_epoch=nb_train_samples//batch_size,\n",
        "                epochs=epochs,\n",
        "                callbacks=callbacks,\n",
        "                validation_data=validation_generator,\n",
        "                validation_steps=nb_validation_samples//batch_size)"
      ],
      "execution_count": 58,
      "outputs": [
        {
          "output_type": "stream",
          "text": [
            "WARNING:tensorflow:From <ipython-input-58-449e11d03d5b>:15: Model.fit_generator (from tensorflow.python.keras.engine.training) is deprecated and will be removed in a future version.\n",
            "Instructions for updating:\n",
            "Please use Model.fit, which supports generators.\n",
            "Epoch 1/50\n",
            "897/897 [==============================] - ETA: 0s - loss: 2.1319 - accuracy: 0.1962\n",
            "Epoch 00001: val_loss improved from inf to 1.77937, saving model to EmotionDetectionModel.h5\n",
            "897/897 [==============================] - 40s 45ms/step - loss: 2.1319 - accuracy: 0.1962 - val_loss: 1.7794 - val_accuracy: 0.2606\n",
            "Epoch 2/50\n",
            "897/897 [==============================] - ETA: 0s - loss: 1.8176 - accuracy: 0.2405\n",
            "Epoch 00002: val_loss improved from 1.77937 to 1.75984, saving model to EmotionDetectionModel.h5\n",
            "897/897 [==============================] - 39s 44ms/step - loss: 1.8176 - accuracy: 0.2405 - val_loss: 1.7598 - val_accuracy: 0.2640\n",
            "Epoch 3/50\n",
            "896/897 [============================>.] - ETA: 0s - loss: 1.7908 - accuracy: 0.2545\n",
            "Epoch 00003: val_loss improved from 1.75984 to 1.73602, saving model to EmotionDetectionModel.h5\n",
            "897/897 [==============================] - 39s 43ms/step - loss: 1.7909 - accuracy: 0.2545 - val_loss: 1.7360 - val_accuracy: 0.2800\n",
            "Epoch 4/50\n",
            "897/897 [==============================] - ETA: 0s - loss: 1.7679 - accuracy: 0.2670\n",
            "Epoch 00004: val_loss improved from 1.73602 to 1.66684, saving model to EmotionDetectionModel.h5\n",
            "897/897 [==============================] - 39s 43ms/step - loss: 1.7679 - accuracy: 0.2670 - val_loss: 1.6668 - val_accuracy: 0.3119\n",
            "Epoch 5/50\n",
            "897/897 [==============================] - ETA: 0s - loss: 1.7064 - accuracy: 0.3043\n",
            "Epoch 00005: val_loss improved from 1.66684 to 1.59884, saving model to EmotionDetectionModel.h5\n",
            "897/897 [==============================] - 39s 43ms/step - loss: 1.7064 - accuracy: 0.3043 - val_loss: 1.5988 - val_accuracy: 0.3795\n",
            "Epoch 6/50\n",
            "896/897 [============================>.] - ETA: 0s - loss: 1.6307 - accuracy: 0.3489\n",
            "Epoch 00006: val_loss improved from 1.59884 to 1.49574, saving model to EmotionDetectionModel.h5\n",
            "897/897 [==============================] - 39s 44ms/step - loss: 1.6306 - accuracy: 0.3490 - val_loss: 1.4957 - val_accuracy: 0.4436\n",
            "Epoch 7/50\n",
            "897/897 [==============================] - ETA: 0s - loss: 1.5399 - accuracy: 0.3985\n",
            "Epoch 00007: val_loss improved from 1.49574 to 1.32193, saving model to EmotionDetectionModel.h5\n",
            "897/897 [==============================] - 38s 43ms/step - loss: 1.5399 - accuracy: 0.3985 - val_loss: 1.3219 - val_accuracy: 0.5014\n",
            "Epoch 8/50\n",
            "897/897 [==============================] - ETA: 0s - loss: 1.4841 - accuracy: 0.4276\n",
            "Epoch 00008: val_loss improved from 1.32193 to 1.23874, saving model to EmotionDetectionModel.h5\n",
            "897/897 [==============================] - 39s 43ms/step - loss: 1.4841 - accuracy: 0.4276 - val_loss: 1.2387 - val_accuracy: 0.5186\n",
            "Epoch 9/50\n",
            "897/897 [==============================] - ETA: 0s - loss: 1.4529 - accuracy: 0.4428\n",
            "Epoch 00009: val_loss improved from 1.23874 to 1.20739, saving model to EmotionDetectionModel.h5\n",
            "897/897 [==============================] - 39s 43ms/step - loss: 1.4529 - accuracy: 0.4428 - val_loss: 1.2074 - val_accuracy: 0.5346\n",
            "Epoch 10/50\n",
            "897/897 [==============================] - ETA: 0s - loss: 1.4165 - accuracy: 0.4582\n",
            "Epoch 00010: val_loss improved from 1.20739 to 1.16921, saving model to EmotionDetectionModel.h5\n",
            "897/897 [==============================] - 39s 44ms/step - loss: 1.4165 - accuracy: 0.4582 - val_loss: 1.1692 - val_accuracy: 0.5534\n",
            "Epoch 11/50\n",
            "896/897 [============================>.] - ETA: 0s - loss: 1.3990 - accuracy: 0.4644\n",
            "Epoch 00011: val_loss did not improve from 1.16921\n",
            "897/897 [==============================] - 39s 43ms/step - loss: 1.3989 - accuracy: 0.4644 - val_loss: 1.1986 - val_accuracy: 0.5389\n",
            "Epoch 12/50\n",
            "897/897 [==============================] - ETA: 0s - loss: 1.3766 - accuracy: 0.4727\n",
            "Epoch 00012: val_loss did not improve from 1.16921\n",
            "897/897 [==============================] - 39s 44ms/step - loss: 1.3766 - accuracy: 0.4727 - val_loss: 1.1975 - val_accuracy: 0.5386\n",
            "Epoch 13/50\n",
            "896/897 [============================>.] - ETA: 0s - loss: 1.3558 - accuracy: 0.4821\n",
            "Epoch 00013: val_loss improved from 1.16921 to 1.15677, saving model to EmotionDetectionModel.h5\n",
            "897/897 [==============================] - 39s 44ms/step - loss: 1.3557 - accuracy: 0.4822 - val_loss: 1.1568 - val_accuracy: 0.5585\n",
            "Epoch 14/50\n",
            "897/897 [==============================] - ETA: 0s - loss: 1.3517 - accuracy: 0.4840\n",
            "Epoch 00014: val_loss improved from 1.15677 to 1.14224, saving model to EmotionDetectionModel.h5\n",
            "897/897 [==============================] - 40s 44ms/step - loss: 1.3517 - accuracy: 0.4840 - val_loss: 1.1422 - val_accuracy: 0.5646\n",
            "Epoch 15/50\n",
            "897/897 [==============================] - ETA: 0s - loss: 1.3392 - accuracy: 0.4927\n",
            "Epoch 00015: val_loss did not improve from 1.14224\n",
            "897/897 [==============================] - 39s 44ms/step - loss: 1.3392 - accuracy: 0.4927 - val_loss: 1.1567 - val_accuracy: 0.5643\n",
            "Epoch 16/50\n",
            "897/897 [==============================] - ETA: 0s - loss: 1.3274 - accuracy: 0.4971\n",
            "Epoch 00016: val_loss did not improve from 1.14224\n",
            "897/897 [==============================] - 40s 44ms/step - loss: 1.3274 - accuracy: 0.4971 - val_loss: 1.1604 - val_accuracy: 0.5617\n",
            "Epoch 17/50\n",
            "896/897 [============================>.] - ETA: 0s - loss: 1.3100 - accuracy: 0.5033\n",
            "Epoch 00017: val_loss improved from 1.14224 to 1.09806, saving model to EmotionDetectionModel.h5\n",
            "897/897 [==============================] - 40s 44ms/step - loss: 1.3101 - accuracy: 0.5033 - val_loss: 1.0981 - val_accuracy: 0.5795\n",
            "Epoch 18/50\n",
            "896/897 [============================>.] - ETA: 0s - loss: 1.3030 - accuracy: 0.5118\n",
            "Epoch 00018: val_loss did not improve from 1.09806\n",
            "897/897 [==============================] - 40s 44ms/step - loss: 1.3031 - accuracy: 0.5117 - val_loss: 1.1039 - val_accuracy: 0.5822\n",
            "Epoch 19/50\n",
            "896/897 [============================>.] - ETA: 0s - loss: 1.2973 - accuracy: 0.5123\n",
            "Epoch 00019: val_loss improved from 1.09806 to 1.06730, saving model to EmotionDetectionModel.h5\n",
            "897/897 [==============================] - 40s 44ms/step - loss: 1.2975 - accuracy: 0.5121 - val_loss: 1.0673 - val_accuracy: 0.5985\n",
            "Epoch 20/50\n",
            "897/897 [==============================] - ETA: 0s - loss: 1.2883 - accuracy: 0.5170\n",
            "Epoch 00020: val_loss did not improve from 1.06730\n",
            "897/897 [==============================] - 40s 44ms/step - loss: 1.2883 - accuracy: 0.5170 - val_loss: 1.0698 - val_accuracy: 0.5978\n",
            "Epoch 21/50\n",
            "896/897 [============================>.] - ETA: 0s - loss: 1.2784 - accuracy: 0.5215\n",
            "Epoch 00021: val_loss improved from 1.06730 to 1.05125, saving model to EmotionDetectionModel.h5\n",
            "897/897 [==============================] - 40s 44ms/step - loss: 1.2787 - accuracy: 0.5213 - val_loss: 1.0512 - val_accuracy: 0.6042\n",
            "Epoch 22/50\n",
            "897/897 [==============================] - ETA: 0s - loss: 1.2661 - accuracy: 0.5271\n",
            "Epoch 00022: val_loss did not improve from 1.05125\n",
            "897/897 [==============================] - 40s 44ms/step - loss: 1.2661 - accuracy: 0.5271 - val_loss: 1.0548 - val_accuracy: 0.6041\n",
            "Epoch 23/50\n",
            "897/897 [==============================] - ETA: 0s - loss: 1.2642 - accuracy: 0.5301\n",
            "Epoch 00023: val_loss improved from 1.05125 to 1.04987, saving model to EmotionDetectionModel.h5\n",
            "897/897 [==============================] - 39s 44ms/step - loss: 1.2642 - accuracy: 0.5301 - val_loss: 1.0499 - val_accuracy: 0.6074\n",
            "Epoch 24/50\n",
            "896/897 [============================>.] - ETA: 0s - loss: 1.2532 - accuracy: 0.5357\n",
            "Epoch 00024: val_loss improved from 1.04987 to 1.02745, saving model to EmotionDetectionModel.h5\n",
            "897/897 [==============================] - 40s 44ms/step - loss: 1.2531 - accuracy: 0.5358 - val_loss: 1.0275 - val_accuracy: 0.6197\n",
            "Epoch 25/50\n",
            "897/897 [==============================] - ETA: 0s - loss: 1.2526 - accuracy: 0.5349\n",
            "Epoch 00025: val_loss did not improve from 1.02745\n",
            "897/897 [==============================] - 40s 44ms/step - loss: 1.2526 - accuracy: 0.5349 - val_loss: 1.0437 - val_accuracy: 0.6059\n",
            "Epoch 26/50\n",
            "897/897 [==============================] - ETA: 0s - loss: 1.2454 - accuracy: 0.5353\n",
            "Epoch 00026: val_loss did not improve from 1.02745\n",
            "897/897 [==============================] - 39s 44ms/step - loss: 1.2454 - accuracy: 0.5353 - val_loss: 1.0536 - val_accuracy: 0.6011\n",
            "Epoch 27/50\n",
            "896/897 [============================>.] - ETA: 0s - loss: 1.2362 - accuracy: 0.5401\n",
            "Epoch 00027: val_loss did not improve from 1.02745\n",
            "\n",
            "Epoch 00027: ReduceLROnPlateau reducing learning rate to 0.00020000000949949026.\n",
            "897/897 [==============================] - 39s 44ms/step - loss: 1.2365 - accuracy: 0.5400 - val_loss: 1.0761 - val_accuracy: 0.5957\n",
            "Epoch 28/50\n",
            "897/897 [==============================] - ETA: 0s - loss: 1.2085 - accuracy: 0.5528\n",
            "Epoch 00028: val_loss improved from 1.02745 to 0.99920, saving model to EmotionDetectionModel.h5\n",
            "897/897 [==============================] - 40s 44ms/step - loss: 1.2085 - accuracy: 0.5528 - val_loss: 0.9992 - val_accuracy: 0.6256\n",
            "Epoch 29/50\n",
            "896/897 [============================>.] - ETA: 0s - loss: 1.2039 - accuracy: 0.5524\n",
            "Epoch 00029: val_loss improved from 0.99920 to 0.99364, saving model to EmotionDetectionModel.h5\n",
            "897/897 [==============================] - 40s 44ms/step - loss: 1.2038 - accuracy: 0.5523 - val_loss: 0.9936 - val_accuracy: 0.6261\n",
            "Epoch 30/50\n",
            "897/897 [==============================] - ETA: 0s - loss: 1.1985 - accuracy: 0.5555\n",
            "Epoch 00030: val_loss improved from 0.99364 to 0.98879, saving model to EmotionDetectionModel.h5\n",
            "897/897 [==============================] - 40s 45ms/step - loss: 1.1985 - accuracy: 0.5555 - val_loss: 0.9888 - val_accuracy: 0.6254\n",
            "Epoch 31/50\n",
            "896/897 [============================>.] - ETA: 0s - loss: 1.1899 - accuracy: 0.5597\n",
            "Epoch 00031: val_loss did not improve from 0.98879\n",
            "897/897 [==============================] - 40s 44ms/step - loss: 1.1896 - accuracy: 0.5598 - val_loss: 0.9892 - val_accuracy: 0.6314\n",
            "Epoch 32/50\n",
            "896/897 [============================>.] - ETA: 0s - loss: 1.1929 - accuracy: 0.5565\n",
            "Epoch 00032: val_loss did not improve from 0.98879\n",
            "897/897 [==============================] - 40s 45ms/step - loss: 1.1931 - accuracy: 0.5563 - val_loss: 0.9960 - val_accuracy: 0.6237\n",
            "Epoch 33/50\n",
            "896/897 [============================>.] - ETA: 0s - loss: 1.1835 - accuracy: 0.5637\n",
            "Epoch 00033: val_loss did not improve from 0.98879\n",
            "\n",
            "Epoch 00033: ReduceLROnPlateau reducing learning rate to 4.0000001899898055e-05.\n",
            "897/897 [==============================] - 40s 44ms/step - loss: 1.1837 - accuracy: 0.5635 - val_loss: 0.9906 - val_accuracy: 0.6247\n",
            "Epoch 34/50\n",
            "896/897 [============================>.] - ETA: 0s - loss: 1.1819 - accuracy: 0.5618\n",
            "Epoch 00034: val_loss improved from 0.98879 to 0.98054, saving model to EmotionDetectionModel.h5\n",
            "897/897 [==============================] - 40s 44ms/step - loss: 1.1822 - accuracy: 0.5617 - val_loss: 0.9805 - val_accuracy: 0.6316\n",
            "Epoch 35/50\n",
            "897/897 [==============================] - ETA: 0s - loss: 1.1778 - accuracy: 0.5646\n",
            "Epoch 00035: val_loss improved from 0.98054 to 0.98049, saving model to EmotionDetectionModel.h5\n",
            "897/897 [==============================] - 40s 44ms/step - loss: 1.1778 - accuracy: 0.5646 - val_loss: 0.9805 - val_accuracy: 0.6327\n",
            "Epoch 36/50\n",
            "896/897 [============================>.] - ETA: 0s - loss: 1.1759 - accuracy: 0.5591\n",
            "Epoch 00036: val_loss improved from 0.98049 to 0.97979, saving model to EmotionDetectionModel.h5\n",
            "897/897 [==============================] - 40s 45ms/step - loss: 1.1759 - accuracy: 0.5591 - val_loss: 0.9798 - val_accuracy: 0.6314\n",
            "Epoch 37/50\n",
            "897/897 [==============================] - ETA: 0s - loss: 1.1746 - accuracy: 0.5632\n",
            "Epoch 00037: val_loss improved from 0.97979 to 0.97806, saving model to EmotionDetectionModel.h5\n",
            "897/897 [==============================] - 40s 45ms/step - loss: 1.1746 - accuracy: 0.5632 - val_loss: 0.9781 - val_accuracy: 0.6313\n",
            "Epoch 38/50\n",
            "897/897 [==============================] - ETA: 0s - loss: 1.1694 - accuracy: 0.5677\n",
            "Epoch 00038: val_loss did not improve from 0.97806\n",
            "897/897 [==============================] - 40s 45ms/step - loss: 1.1694 - accuracy: 0.5677 - val_loss: 0.9788 - val_accuracy: 0.6341\n",
            "Epoch 39/50\n",
            "896/897 [============================>.] - ETA: 0s - loss: 1.1678 - accuracy: 0.5669\n",
            "Epoch 00039: val_loss improved from 0.97806 to 0.97805, saving model to EmotionDetectionModel.h5\n",
            "897/897 [==============================] - 40s 45ms/step - loss: 1.1678 - accuracy: 0.5669 - val_loss: 0.9781 - val_accuracy: 0.6314\n",
            "Epoch 40/50\n",
            "897/897 [==============================] - ETA: 0s - loss: 1.1721 - accuracy: 0.5664\n",
            "Epoch 00040: val_loss improved from 0.97805 to 0.97651, saving model to EmotionDetectionModel.h5\n",
            "897/897 [==============================] - 40s 45ms/step - loss: 1.1721 - accuracy: 0.5664 - val_loss: 0.9765 - val_accuracy: 0.6321\n",
            "Epoch 41/50\n",
            "896/897 [============================>.] - ETA: 0s - loss: 1.1737 - accuracy: 0.5666\n",
            "Epoch 00041: val_loss improved from 0.97651 to 0.97620, saving model to EmotionDetectionModel.h5\n",
            "897/897 [==============================] - 40s 45ms/step - loss: 1.1737 - accuracy: 0.5666 - val_loss: 0.9762 - val_accuracy: 0.6339\n",
            "Epoch 42/50\n",
            "897/897 [==============================] - ETA: 0s - loss: 1.1749 - accuracy: 0.5664\n",
            "Epoch 00042: val_loss improved from 0.97620 to 0.97556, saving model to EmotionDetectionModel.h5\n",
            "897/897 [==============================] - 40s 45ms/step - loss: 1.1749 - accuracy: 0.5664 - val_loss: 0.9756 - val_accuracy: 0.6353\n",
            "Epoch 43/50\n",
            "896/897 [============================>.] - ETA: 0s - loss: 1.1755 - accuracy: 0.5670\n",
            "Epoch 00043: val_loss improved from 0.97556 to 0.97308, saving model to EmotionDetectionModel.h5\n",
            "897/897 [==============================] - 40s 45ms/step - loss: 1.1753 - accuracy: 0.5670 - val_loss: 0.9731 - val_accuracy: 0.6350\n",
            "Epoch 44/50\n",
            "896/897 [============================>.] - ETA: 0s - loss: 1.1656 - accuracy: 0.5676\n",
            "Epoch 00044: val_loss did not improve from 0.97308\n",
            "897/897 [==============================] - 40s 45ms/step - loss: 1.1654 - accuracy: 0.5677 - val_loss: 0.9751 - val_accuracy: 0.6336\n",
            "Epoch 45/50\n",
            "897/897 [==============================] - ETA: 0s - loss: 1.1754 - accuracy: 0.5669\n",
            "Epoch 00045: val_loss did not improve from 0.97308\n",
            "897/897 [==============================] - 40s 45ms/step - loss: 1.1754 - accuracy: 0.5669 - val_loss: 0.9735 - val_accuracy: 0.6356\n",
            "Epoch 46/50\n",
            "897/897 [==============================] - ETA: 0s - loss: 1.1654 - accuracy: 0.5670\n",
            "Epoch 00046: val_loss did not improve from 0.97308\n",
            "\n",
            "Epoch 00046: ReduceLROnPlateau reducing learning rate to 8.000000525498762e-06.\n",
            "897/897 [==============================] - 40s 45ms/step - loss: 1.1654 - accuracy: 0.5670 - val_loss: 0.9744 - val_accuracy: 0.6342\n",
            "Epoch 47/50\n",
            "896/897 [============================>.] - ETA: 0s - loss: 1.1665 - accuracy: 0.5667\n",
            "Epoch 00047: val_loss did not improve from 0.97308\n",
            "897/897 [==============================] - 40s 45ms/step - loss: 1.1667 - accuracy: 0.5666 - val_loss: 0.9750 - val_accuracy: 0.6328\n",
            "Epoch 48/50\n",
            "897/897 [==============================] - ETA: 0s - loss: 1.1604 - accuracy: 0.5728\n",
            "Epoch 00048: val_loss did not improve from 0.97308\n",
            "897/897 [==============================] - 40s 45ms/step - loss: 1.1604 - accuracy: 0.5728 - val_loss: 0.9743 - val_accuracy: 0.6360\n",
            "Epoch 49/50\n",
            "897/897 [==============================] - ETA: 0s - loss: 1.1682 - accuracy: 0.5644\n",
            "Epoch 00049: val_loss did not improve from 0.97308\n",
            "\n",
            "Epoch 00049: ReduceLROnPlateau reducing learning rate to 1.6000001778593287e-06.\n",
            "897/897 [==============================] - 40s 44ms/step - loss: 1.1682 - accuracy: 0.5644 - val_loss: 0.9761 - val_accuracy: 0.6328\n",
            "Epoch 50/50\n",
            "897/897 [==============================] - ETA: 0s - loss: 1.1641 - accuracy: 0.5674\n",
            "Epoch 00050: val_loss did not improve from 0.97308\n",
            "897/897 [==============================] - 39s 44ms/step - loss: 1.1641 - accuracy: 0.5674 - val_loss: 0.9751 - val_accuracy: 0.6327\n"
          ],
          "name": "stdout"
        }
      ]
    },
    {
      "cell_type": "code",
      "metadata": {
        "colab": {
          "base_uri": "https://localhost:8080/"
        },
        "id": "VTFL5z7RSE9W",
        "outputId": "04af1381-6fec-4adf-d33a-56462adcc7a8"
      },
      "source": [
        "model.save('EmotionDetectionModel')\n",
        "model.save('EmotionDetectionModel.h5')"
      ],
      "execution_count": 59,
      "outputs": [
        {
          "output_type": "stream",
          "text": [
            "WARNING:tensorflow:From /usr/local/lib/python3.6/dist-packages/tensorflow/python/training/tracking/tracking.py:111: Model.state_updates (from tensorflow.python.keras.engine.training) is deprecated and will be removed in a future version.\n",
            "Instructions for updating:\n",
            "This property should not be used in TensorFlow 2.0, as updates are applied automatically.\n",
            "WARNING:tensorflow:From /usr/local/lib/python3.6/dist-packages/tensorflow/python/training/tracking/tracking.py:111: Layer.updates (from tensorflow.python.keras.engine.base_layer) is deprecated and will be removed in a future version.\n",
            "Instructions for updating:\n",
            "This property should not be used in TensorFlow 2.0, as updates are applied automatically.\n",
            "INFO:tensorflow:Assets written to: EmotionDetectionModel/assets\n"
          ],
          "name": "stdout"
        }
      ]
    },
    {
      "cell_type": "code",
      "metadata": {
        "colab": {
          "base_uri": "https://localhost:8080/",
          "height": 521
        },
        "id": "d6BeDgzgSE9W",
        "outputId": "5187d68b-1a83-4bba-f526-812ae4be8225"
      },
      "source": [
        "#Plotting accuracy and loss curves for model\n",
        "fig = plt.figure(figsize=(16, 8))\n",
        "# Loss Curves\n",
        "ax = fig.add_subplot(121)\n",
        "ax.plot(history.history['loss'], 'r', linewidth=2.0)\n",
        "ax.plot(history.history['val_loss'], 'b', linewidth=2.0)\n",
        "ax.legend(['Training loss', 'Validation Loss'], fontsize=16)\n",
        "ax.set_xlabel('Epochs number', fontsize=16)\n",
        "ax.set_ylabel('Loss', fontsize=16)\n",
        "ax.set_title('Loss Curves', fontsize=18)\n",
        "\n",
        "# Accuracy Curves\n",
        "ax = fig.add_subplot(122)\n",
        "ax.plot(history.history['accuracy'], 'r', linewidth=2.0)\n",
        "ax.plot(history.history['val_accuracy'], 'b', linewidth=2.0)\n",
        "ax.legend(['Training Accuracy', 'Validation Accuracy'], fontsize=16)\n",
        "ax.set_xlabel('Epoch number', fontsize=16)\n",
        "ax.set_ylabel('Accuracy', fontsize=16)\n",
        "ax.set_title('Accuracy Curves', fontsize=18)\n",
        "\n",
        "fig.subplots_adjust()\n",
        "fig.tight_layout()"
      ],
      "execution_count": 78,
      "outputs": [
        {
          "output_type": "display_data",
          "data": {
            "image/png": "[encoded data removed]",
            "text/plain": [
              "<Figure size 1152x576 with 2 Axes>"
            ]
          },
          "metadata": {
            "tags": [],
            "needs_background": "light"
          }
        }
      ]
    },
    {
      "cell_type": "markdown",
      "metadata": {
        "id": "5C7uvGB735YP"
      },
      "source": [
        "No overfitting, everything is well."
      ]
    },
    {
      "cell_type": "code",
      "metadata": {
        "id": "nuj-vtuhwtB2"
      },
      "source": [
        "\n",
        "# for res in validation_generator:\n",
        "#     batch_labels = np.argmax(res[1], axis=1)\n",
        "#     labels.extend(batch_labels)\n",
        "#     if len(batch_labels) < batch_size:\n",
        "#         break"
      ],
      "execution_count": 73,
      "outputs": []
    },
    {
      "cell_type": "code",
      "metadata": {
        "id": "H329cKxfukRL"
      },
      "source": [
        ""
      ],
      "execution_count": null,
      "outputs": []
    },
    {
      "cell_type": "code",
      "metadata": {
        "colab": {
          "base_uri": "https://localhost:8080/"
        },
        "id": "juOCK-nmSE9X",
        "outputId": "d7241469-12d2-407a-ea97-4b54bc8ad33e"
      },
      "source": [
        "labels = test_data.emotion\n",
        "y_pred = np.argmax(model.predict(validation_generator), axis=1)\n",
        "predicted_emotions = [reversed_emo_dct[emo] for emo in y_pred]\n",
        "print(classification_report(labels, predicted_emotions))"
      ],
      "execution_count": 84,
      "outputs": [
        {
          "output_type": "stream",
          "text": [
            "              precision    recall  f1-score   support\n",
            "\n",
            "       angry       0.52      0.61      0.56       958\n",
            "   disgusted       0.00      0.00      0.00       111\n",
            "     fearful       0.51      0.26      0.35      1024\n",
            "       happy       0.88      0.86      0.87      1774\n",
            "     neutral       0.09      0.13      0.11      1233\n",
            "         sad       0.14      0.14      0.14      1247\n",
            "   surprised       0.01      0.01      0.01       831\n",
            "\n",
            "    accuracy                           0.38      7178\n",
            "   macro avg       0.31      0.29      0.29      7178\n",
            "weighted avg       0.40      0.38      0.38      7178\n",
            "\n"
          ],
          "name": "stdout"
        },
        {
          "output_type": "stream",
          "text": [
            "/usr/local/lib/python3.6/dist-packages/sklearn/metrics/_classification.py:1272: UndefinedMetricWarning: Precision and F-score are ill-defined and being set to 0.0 in labels with no predicted samples. Use `zero_division` parameter to control this behavior.\n",
            "  _warn_prf(average, modifier, msg_start, len(result))\n"
          ],
          "name": "stderr"
        }
      ]
    },
    {
      "cell_type": "code",
      "metadata": {
        "colab": {
          "base_uri": "https://localhost:8080/",
          "height": 561
        },
        "id": "UXNU-nZlwYoi",
        "outputId": "6c27bb96-6ffc-431a-c234-95d1649a3fd2"
      },
      "source": [
        "result = classification_report(labels, predicted_emotions, output_dict=True)\n",
        "for_plot = {k: result[k]['f1-score'] for k in emo_dct.keys()}\n",
        "\n",
        "plt.figure(figsize=(14, 8))\n",
        "plt.bar(x=for_plot.keys(), height=for_plot.values())\n",
        "plt.ylabel('F1-score', fontsize=16)\n",
        "plt.xticks(fontsize=14)\n",
        "plt.yticks(fontsize=14)\n",
        "plt.title('Classification report', fontsize=18)\n",
        "plt.grid(True)\n",
        "\n",
        "fig.subplots_adjust()\n",
        "fig.tight_layout()"
      ],
      "execution_count": 114,
      "outputs": [
        {
          "output_type": "stream",
          "text": [
            "/usr/local/lib/python3.6/dist-packages/sklearn/metrics/_classification.py:1272: UndefinedMetricWarning: Precision and F-score are ill-defined and being set to 0.0 in labels with no predicted samples. Use `zero_division` parameter to control this behavior.\n",
            "  _warn_prf(average, modifier, msg_start, len(result))\n"
          ],
          "name": "stderr"
        },
        {
          "output_type": "display_data",
          "data": {
            "image/png": "[encoded data removed]",
            "text/plain": [
              "<Figure size 1008x576 with 1 Axes>"
            ]
          },
          "metadata": {
            "tags": [],
            "needs_background": "light"
          }
        }
      ]
    },
    {
      "cell_type": "markdown",
      "metadata": {
        "id": "pDlyqfa563ZH"
      },
      "source": [
        "This looks pretty similar to the classes distribution in the dataset, what was expected."
      ]
    },
    {
      "cell_type": "code",
      "metadata": {
        "colab": {
          "base_uri": "https://localhost:8080/",
          "height": 525
        },
        "id": "xW7mO_J_x59m",
        "outputId": "20832205-8e2d-4e72-cab4-2e6c15fa20f0"
      },
      "source": [
        "img = cv2.imread('save_files/fer_hist.png')\n",
        "plt.figure(figsize=(16, 12))\n",
        "plt.axis('off')\n",
        "plt.imshow(img)"
      ],
      "execution_count": 109,
      "outputs": [
        {
          "output_type": "execute_result",
          "data": {
            "text/plain": [
              "<matplotlib.image.AxesImage at 0x7f7f8d333ac8>"
            ]
          },
          "metadata": {
            "tags": []
          },
          "execution_count": 109
        },
        {
          "output_type": "display_data",
          "data": {
            "image/png": "[encoded data removed]",
            "text/plain": [
              "<Figure size 1152x864 with 1 Axes>"
            ]
          },
          "metadata": {
            "tags": [],
            "needs_background": "light"
          }
        }
      ]
    },
    {
      "cell_type": "code",
      "metadata": {
        "id": "pZPW2aJ-x_8a"
      },
      "source": [
        ""
      ],
      "execution_count": 108,
      "outputs": []
    }
  ]
}