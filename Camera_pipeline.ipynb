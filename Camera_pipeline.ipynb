{
 "cells": [
  {
   "cell_type": "code",
   "execution_count": 1,
   "metadata": {},
   "outputs": [],
   "source": [
    "import numpy as np\n",
    "import pandas as pd\n",
    "import cv2\n",
    "import matplotlib.pyplot as plt\n",
    "from tensorflow.keras.models import load_model\n",
    "import os\n",
    "from scipy.ndimage import zoom\n",
    "from imutils import face_utils\n",
    "from scipy.spatial import distance\n",
    "from time import sleep\n",
    "from keras.preprocessing.image import img_to_array\n",
    "from keras.preprocessing import image\n",
    "import cv2\n",
    "import numpy as np\n",
    "import tensorflow as tf\n",
    "from tensorflow.python.keras.backend import set_session\n",
    "from tensorflow.keras.models import Sequential"
   ]
  },
  {
   "cell_type": "code",
   "execution_count": 2,
   "metadata": {},
   "outputs": [],
   "source": [
    "shape_x = 48\n",
    "shape_y = 48"
   ]
  },
  {
   "cell_type": "markdown",
   "metadata": {},
   "source": [
    "Model load"
   ]
  },
  {
   "cell_type": "code",
   "execution_count": 3,
   "metadata": {},
   "outputs": [],
   "source": [
    "model = load_model('save_files/EmotionDetectionModel.h5')\n",
    "face_haar_cascade = cv2.CascadeClassifier('save_files/haarcascade_frontalface_default.xml')"
   ]
  },
  {
   "cell_type": "markdown",
   "metadata": {},
   "source": [
    "Start the web camera"
   ]
  },
  {
   "cell_type": "code",
   "execution_count": 4,
   "metadata": {},
   "outputs": [],
   "source": [
    "cap = cv2.VideoCapture(0)"
   ]
  },
  {
   "cell_type": "markdown",
   "metadata": {},
   "source": [
    "Video capturing cycle. To break from it press \"q\"."
   ]
  },
  {
   "cell_type": "code",
   "execution_count": 5,
   "metadata": {},
   "outputs": [
    {
     "data": {
      "text/plain": [
       "<function destroyAllWindows>"
      ]
     },
     "execution_count": 5,
     "metadata": {},
     "output_type": "execute_result"
    }
   ],
   "source": [
    "emotion = []\n",
    "\n",
    "xs = []\n",
    "ys = []\n",
    "\n",
    "i = 0\n",
    "\n",
    "while True:\n",
    "    # Captures test_img from the video stream\n",
    "    # and returns boolean value and captured image\n",
    "    ret, test_img = cap.read()\n",
    "    if not ret:\n",
    "        continue\n",
    "    gray_img = cv2.cvtColor(test_img, cv2.COLOR_BGR2GRAY)\n",
    "    face_index = 0\n",
    "    faces_detected = face_haar_cascade.detectMultiScale(gray_img, 1.32, 5)\n",
    "\n",
    "\n",
    "    for (x,y,w,h) in faces_detected:\n",
    "        cv2.rectangle(test_img, (x,y), (x+w,y+h), (255,0,0), thickness=7)\n",
    "        roi_gray = gray_img[y:y+w, x:x+h]#cropping region of interest i.e. face area from  image\n",
    "        roi_gray = cv2.resize(roi_gray, (48,48))\n",
    "        img_pixels = image.img_to_array(roi_gray)\n",
    "        img_pixels = np.expand_dims(img_pixels, axis = 0)\n",
    "        img_pixels /= 255\n",
    "\n",
    "        # Get the prediction from trained mpdel\n",
    "        predictions = model.predict(img_pixels)\n",
    "        predictions_result = np.argmax(predictions)\n",
    "        \n",
    "        # Display class probabilities\n",
    "        cv2.putText(test_img, \"Angry : \" + str(round(predictions[0][0],3)),(10,30), cv2.FONT_HERSHEY_SIMPLEX, 0.5, 155, 0)\n",
    "        cv2.putText(test_img, \"Disgust : \" + str(round(predictions[0][1],3)),(10,50), cv2.FONT_HERSHEY_SIMPLEX, 0.5, 155, 0)\n",
    "        cv2.putText(test_img, \"Fear : \" + str(round(predictions[0][2],3)),(10,70), cv2.FONT_HERSHEY_SIMPLEX, 0.5, 155, 1)\n",
    "        cv2.putText(test_img, \"Happy : \" + str(round(predictions[0][3],3)),(10,90), cv2.FONT_HERSHEY_SIMPLEX, 0.5, 155, 1)\n",
    "        cv2.putText(test_img, \"Sad : \" + str(round(predictions[0][4],3)),(10,110), cv2.FONT_HERSHEY_SIMPLEX, 0.5, 155, 1)\n",
    "        cv2.putText(test_img, \"Surprise : \" + str(round(predictions[0][5],3)),(10,130), cv2.FONT_HERSHEY_SIMPLEX, 0.5, 155, 1)\n",
    "        cv2.putText(test_img, \"Neutral : \" + str(round(predictions[0][6],3)),(10,150), cv2.FONT_HERSHEY_SIMPLEX, 0.5, 155, 1)\n",
    "        \n",
    "        # annotate main image with a label\n",
    "        if predictions_result == 0 :\n",
    "            cv2.putText(test_img, \"Angry\",(x,y), cv2.FONT_HERSHEY_SIMPLEX, 2, 155, 10)\n",
    "        elif predictions_result == 1 :\n",
    "            cv2.putText(test_img, \"Disgust\",(x,y), cv2.FONT_HERSHEY_SIMPLEX, 2, 155, 10)\n",
    "        elif predictions_result == 2 :\n",
    "            cv2.putText(test_img, \"Fear\",(x,y), cv2.FONT_HERSHEY_SIMPLEX, 2, 155, 10)\n",
    "        elif predictions_result == 3 :\n",
    "            cv2.putText(test_img, \"Happy\",(x,y), cv2.FONT_HERSHEY_SIMPLEX, 2, 155, 10)\n",
    "        elif predictions_result == 4 :\n",
    "            cv2.putText(test_img, \"Sad\",(x,y), cv2.FONT_HERSHEY_SIMPLEX, 2, 155, 10)\n",
    "        elif predictions_result == 5 :\n",
    "            cv2.putText(test_img, \"Surprise\",(x,y), cv2.FONT_HERSHEY_SIMPLEX, 2, 155, 10)\n",
    "        else :\n",
    "            cv2.putText(test_img, \"Neutral\",(x,y), cv2.FONT_HERSHEY_SIMPLEX, 2, 155, 10)\n",
    "                         \n",
    "        face_index += 1\n",
    "        \n",
    "        # Save the emotion at the time step\n",
    "        emotion.append(predictions_result)\n",
    "        ys.append(predictions_result)\n",
    "\n",
    "    resized_img = cv2.resize(test_img, (1000, 700))\n",
    "    cv2.imshow('Facial emotion analysis ', resized_img)\n",
    "\n",
    "    if cv2.waitKey(1) & 0xFF == ord('q'):\n",
    "        break\n",
    "\n",
    "cap.release()\n",
    "cv2.destroyAllWindows"
   ]
  },
  {
   "cell_type": "code",
   "execution_count": 28,
   "metadata": {},
   "outputs": [
    {
     "data": {
      "image/png": "[encoded data removed]",
      "text/plain": [
       "<Figure size 1152x432 with 1 Axes>"
      ]
     },
     "metadata": {
      "needs_background": "light"
     },
     "output_type": "display_data"
    }
   ],
   "source": [
    "emotions = ['angry', 'disgusted', 'fearful', 'happy', 'sad', 'surprised', 'neutral']\n",
    "positions = [-4, -3, -2, -1, 0, 1, 2]\n",
    "permutation = {\n",
    "    6: 0,\n",
    "    3: 2,\n",
    "    5: 1,\n",
    "    4: -1,\n",
    "    2: -2,\n",
    "    1: -3,\n",
    "    0: -4,\n",
    "}\n",
    "y_shifted = [permutation[y] for y in ys]\n",
    "emo_shifted = emotions.copy()\n",
    "for i, _ in enumerate(emotions):\n",
    "    emo_shifted[permutation[i]+4] = emotions[i]\n",
    "\n",
    "plt.figure(figsize=(16, 6))\n",
    "plt.plot(y_shifted)\n",
    "plt.yticks(positions, labels=emo_shifted, fontsize=12)\n",
    "plt.xlabel('time, s', fontsize=12)\n",
    "plt.title('Real-time emotion tracking', fontsize=16)\n",
    "plt.grid(True)"
   ]
  }
 ],
 "metadata": {
  "kernelspec": {
   "display_name": "Python 3",
   "language": "python",
   "name": "python3"
  },
  "language_info": {
   "codemirror_mode": {
    "name": "ipython",
    "version": 3
   },
   "file_extension": ".py",
   "mimetype": "text/x-python",
   "name": "python",
   "nbconvert_exporter": "python",
   "pygments_lexer": "ipython3",
   "version": "3.8.5"
  }
 },
 "nbformat": 4,
 "nbformat_minor": 4
}
